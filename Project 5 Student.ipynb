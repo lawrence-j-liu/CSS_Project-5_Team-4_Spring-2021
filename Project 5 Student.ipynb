{
 "cells": [
  {
   "cell_type": "markdown",
   "metadata": {},
   "source": [
    "## [Computational Social Science] Project 5: Natural Language Processing\n",
    "\n",
    "### Team 4: Elleni Hailu, Lawrence Liu, and Ángel Mendiola Ross\n",
    "### Due: February 26, 2020"
   ]
  },
  {
   "cell_type": "markdown",
   "metadata": {},
   "source": [
    "In this project, we use natural language processing techniques to explore a dataset containing tweets from members of the 116th United States Congress that met from January 3, 2019 to January 2, 2021. The dataset has also been cleaned to contain information about each legislator. Concretely, we do the following:\n",
    "\n",
    "* Preprocess the text of legislators' tweets\n",
    "* Conduct Exploratory Data Analysis of the text\n",
    "* Use sentiment analysis to explore differences between legislators' tweets\n",
    "* Featurize text with manual feature engineering, frequency-based, and vector-based techniques\n",
    "* Predict legislators' political parties and whether they are a Senator or Representative\n",
    "\n",
    "We explore two questions that relate to two central findings in political science and examine how they relate to the text of legislators' tweets. First, political scientists have argued that U.S. politics is currently highly polarized relative to other periods in American history, but also that the polarization is asymmetric. Historically, there were several conservative Democrats (i.e. \"blue dog Democrats\") and liberal Republicans (i.e. \"Rockefeller Republicans\"), as measured by popular measurement tools like [DW-NOMINATE](https://en.wikipedia.org/wiki/NOMINATE_(scaling_method)#:~:text=DW\\%2DNOMINATE\\%20scores\\%20have\\%20been,in\\%20the\\%20liberal\\%2Dconservative\\%20scale.). However, in the last few years, there are few if any examples of any Democrat in Congress being further to the right than any Republican and vice versa. At the same time, scholars have argued that this polarization is mostly a function of the Republican party moving further right than the Democratic party has moved left. **Does this sort of asymmetric polarization show up in how politicians communicate to their constituents through tweets?**\n",
    "\n",
    "Second, the U.S. Congress is a bicameral legislature, and there has long been debate about partisanship in the Senate versus the House. The House of Representatives is apportioned by population and all members serve two year terms. In the Senate, each state receives two Senators and each Senator serves a term of six years. For a variety of reasons (smaller chamber size, more insulation from the voters, rules and norms like the filibuster, etc.), the Senate has been argued to be the \"cooling saucer\" of Congress in that it is more bipartisan and moderate than the House. **Does the theory that the Senate is more moderate have support in Senators' tweets?**\n",
    "\n",
    "**Note**: See the project handout for more details on caveats and the data dictionary."
   ]
  },
  {
   "cell_type": "code",
   "execution_count": 1,
   "metadata": {},
   "outputs": [],
   "source": [
    "#install spacy language detect capability, uncomment below if not yet installed \n",
    "#!pip install spacy-langdetect"
   ]
  },
  {
   "cell_type": "code",
   "execution_count": 2,
   "metadata": {},
   "outputs": [],
   "source": [
    "# pandas and numpy\n",
    "import pandas as pd\n",
    "import numpy as numpy\n",
    "\n",
    "# punctuation, stop words and English language model\n",
    "from string import punctuation\n",
    "\n",
    "from spacy.lang.en.stop_words import STOP_WORDS\n",
    "from spacy_langdetect import LanguageDetector #so we can add a feature to the dataframe indicating whether English text or not\n",
    "\n",
    "import en_core_web_sm\n",
    "nlp = en_core_web_sm.load()\n",
    "\n",
    "#add language detection to spaCy pipeline\n",
    "nlp.add_pipe(LanguageDetector(), name='language_detector', last=True)\n",
    "\n",
    "# textblob\n",
    "from textblob import TextBlob\n",
    "\n",
    "# countvectorizer, tfidfvectorizer\n",
    "from sklearn.feature_extraction.text import CountVectorizer, TfidfVectorizer\n",
    "\n",
    "# gensim\n",
    "import gensim\n",
    "from gensim import models\n",
    "\n",
    "# plotting\n",
    "import matplotlib.pyplot as plt\n",
    "import seaborn as sns\n",
    "%matplotlib inline\n",
    "\n",
    "#replicabilty\n",
    "import random\n",
    "\n",
    "#regex to help remove graphical emojis\n",
    "import re "
   ]
  },
  {
   "cell_type": "code",
   "execution_count": 3,
   "metadata": {},
   "outputs": [
    {
     "data": {
      "text/html": [
       "<div>\n",
       "<style scoped>\n",
       "    .dataframe tbody tr th:only-of-type {\n",
       "        vertical-align: middle;\n",
       "    }\n",
       "\n",
       "    .dataframe tbody tr th {\n",
       "        vertical-align: top;\n",
       "    }\n",
       "\n",
       "    .dataframe thead th {\n",
       "        text-align: right;\n",
       "    }\n",
       "</style>\n",
       "<table border=\"1\" class=\"dataframe\">\n",
       "  <thead>\n",
       "    <tr style=\"text-align: right;\">\n",
       "      <th></th>\n",
       "      <th>tweet_id</th>\n",
       "      <th>screen_name</th>\n",
       "      <th>datetime</th>\n",
       "      <th>text</th>\n",
       "      <th>name_wikipedia</th>\n",
       "      <th>position</th>\n",
       "      <th>joined_congress_date</th>\n",
       "      <th>birthday</th>\n",
       "      <th>gender</th>\n",
       "      <th>state</th>\n",
       "      <th>district_number</th>\n",
       "      <th>party</th>\n",
       "      <th>trump_2016_state_share</th>\n",
       "      <th>clinton_2016_state_share</th>\n",
       "      <th>obama_2012_state_share</th>\n",
       "      <th>romney_2012_state_share</th>\n",
       "    </tr>\n",
       "  </thead>\n",
       "  <tbody>\n",
       "    <tr>\n",
       "      <th>13642</th>\n",
       "      <td>1.100540e+18</td>\n",
       "      <td>RepRubenGallego</td>\n",
       "      <td>2019-02-26T18:25:27-05:00</td>\n",
       "      <td>We’re voting right now to end Trump’s #FakeEme...</td>\n",
       "      <td>Ruben Gallego</td>\n",
       "      <td>Rep</td>\n",
       "      <td>3-Jan-15</td>\n",
       "      <td>11/20/1979</td>\n",
       "      <td>M</td>\n",
       "      <td>AZ</td>\n",
       "      <td>7</td>\n",
       "      <td>Democrat</td>\n",
       "      <td>1,252,401</td>\n",
       "      <td>1,161,167</td>\n",
       "      <td>1,025,232</td>\n",
       "      <td>1,233,654</td>\n",
       "    </tr>\n",
       "    <tr>\n",
       "      <th>138713</th>\n",
       "      <td>1.292860e+18</td>\n",
       "      <td>RepRoKhanna</td>\n",
       "      <td>2020-08-10T12:32:00-04:00</td>\n",
       "      <td>People need food, medicine, and a roof over th...</td>\n",
       "      <td>Ro Khanna</td>\n",
       "      <td>Rep</td>\n",
       "      <td>3-Jan-17</td>\n",
       "      <td>9/13/1976</td>\n",
       "      <td>M</td>\n",
       "      <td>CA</td>\n",
       "      <td>17</td>\n",
       "      <td>Democrat</td>\n",
       "      <td>4,483,814</td>\n",
       "      <td>8,753,792</td>\n",
       "      <td>7,854,285</td>\n",
       "      <td>4,839,958</td>\n",
       "    </tr>\n",
       "    <tr>\n",
       "      <th>249065</th>\n",
       "      <td>1.304120e+18</td>\n",
       "      <td>RepValDemings</td>\n",
       "      <td>2020-09-10T14:16:19-04:00</td>\n",
       "      <td>RT @RepValDemings Let's get this straight: the...</td>\n",
       "      <td>Val Demings</td>\n",
       "      <td>Rep</td>\n",
       "      <td>3-Jan-17</td>\n",
       "      <td>3/12/1957</td>\n",
       "      <td>F</td>\n",
       "      <td>FL</td>\n",
       "      <td>10</td>\n",
       "      <td>Democrat</td>\n",
       "      <td>4,617,886</td>\n",
       "      <td>4,504,975</td>\n",
       "      <td>4,237,756</td>\n",
       "      <td>4,163,447</td>\n",
       "    </tr>\n",
       "    <tr>\n",
       "      <th>911553</th>\n",
       "      <td>1.272670e+18</td>\n",
       "      <td>RepAdamSmith</td>\n",
       "      <td>2020-06-15T19:19:40-04:00</td>\n",
       "      <td>The @wsdot will receive a $73 million grant fo...</td>\n",
       "      <td>Adam Smith</td>\n",
       "      <td>Rep</td>\n",
       "      <td>3-Jan-97</td>\n",
       "      <td>6/15/1965</td>\n",
       "      <td>M</td>\n",
       "      <td>WA</td>\n",
       "      <td>9</td>\n",
       "      <td>Democrat</td>\n",
       "      <td>1,221,747</td>\n",
       "      <td>1,742,718</td>\n",
       "      <td>1,755,396</td>\n",
       "      <td>1,290,670</td>\n",
       "    </tr>\n",
       "    <tr>\n",
       "      <th>843615</th>\n",
       "      <td>1.125780e+18</td>\n",
       "      <td>SenMikeLee</td>\n",
       "      <td>2019-05-07T10:57:05-04:00</td>\n",
       "      <td>Why are American taxpayers subsidizing Chinese...</td>\n",
       "      <td>Mike Lee</td>\n",
       "      <td>Sen</td>\n",
       "      <td>3-Jan-19</td>\n",
       "      <td>6/4/1971</td>\n",
       "      <td>M</td>\n",
       "      <td>UT</td>\n",
       "      <td>Senate</td>\n",
       "      <td>Republican</td>\n",
       "      <td>515,231</td>\n",
       "      <td>310,676</td>\n",
       "      <td>251,813</td>\n",
       "      <td>740,600</td>\n",
       "    </tr>\n",
       "  </tbody>\n",
       "</table>\n",
       "</div>"
      ],
      "text/plain": [
       "            tweet_id      screen_name                   datetime  \\\n",
       "13642   1.100540e+18  RepRubenGallego  2019-02-26T18:25:27-05:00   \n",
       "138713  1.292860e+18      RepRoKhanna  2020-08-10T12:32:00-04:00   \n",
       "249065  1.304120e+18    RepValDemings  2020-09-10T14:16:19-04:00   \n",
       "911553  1.272670e+18     RepAdamSmith  2020-06-15T19:19:40-04:00   \n",
       "843615  1.125780e+18       SenMikeLee  2019-05-07T10:57:05-04:00   \n",
       "\n",
       "                                                     text name_wikipedia  \\\n",
       "13642   We’re voting right now to end Trump’s #FakeEme...  Ruben Gallego   \n",
       "138713  People need food, medicine, and a roof over th...      Ro Khanna   \n",
       "249065  RT @RepValDemings Let's get this straight: the...    Val Demings   \n",
       "911553  The @wsdot will receive a $73 million grant fo...     Adam Smith   \n",
       "843615  Why are American taxpayers subsidizing Chinese...       Mike Lee   \n",
       "\n",
       "       position joined_congress_date    birthday gender state district_number  \\\n",
       "13642       Rep             3-Jan-15  11/20/1979      M    AZ               7   \n",
       "138713      Rep             3-Jan-17   9/13/1976      M    CA              17   \n",
       "249065      Rep             3-Jan-17   3/12/1957      F    FL              10   \n",
       "911553      Rep             3-Jan-97   6/15/1965      M    WA               9   \n",
       "843615      Sen             3-Jan-19    6/4/1971      M    UT          Senate   \n",
       "\n",
       "             party trump_2016_state_share clinton_2016_state_share  \\\n",
       "13642     Democrat              1,252,401                1,161,167   \n",
       "138713    Democrat              4,483,814                8,753,792   \n",
       "249065    Democrat              4,617,886                4,504,975   \n",
       "911553    Democrat              1,221,747                1,742,718   \n",
       "843615  Republican                515,231                  310,676   \n",
       "\n",
       "       obama_2012_state_share romney_2012_state_share  \n",
       "13642               1,025,232               1,233,654  \n",
       "138713              7,854,285               4,839,958  \n",
       "249065              4,237,756               4,163,447  \n",
       "911553              1,755,396               1,290,670  \n",
       "843615                251,813                 740,600  "
      ]
     },
     "execution_count": 3,
     "metadata": {},
     "output_type": "execute_result"
    }
   ],
   "source": [
    "random.seed(49764) #set seed for replicability w/ sample\n",
    "\n",
    "congress_tweets = pd.read_csv(\"data/116th Congressional Tweets and Demographics.csv\")\n",
    "# fill in this line of code with a sufficient number of tweets, depending on your computational resources\n",
    "congress_tweets = congress_tweets.sample(5000) \n",
    "#LL: note I picked 5000 arbitrarily for now; we'll want to come back to this and adjust up as we get code to work\n",
    "congress_tweets.head()"
   ]
  },
  {
   "cell_type": "code",
   "execution_count": 4,
   "metadata": {},
   "outputs": [
    {
     "data": {
      "text/plain": [
       "(5000, 16)"
      ]
     },
     "execution_count": 4,
     "metadata": {},
     "output_type": "execute_result"
    }
   ],
   "source": [
    "congress_tweets.shape"
   ]
  },
  {
   "cell_type": "markdown",
   "metadata": {},
   "source": [
    "## Preprocessing Text Data"
   ]
  },
  {
   "cell_type": "markdown",
   "metadata": {},
   "source": [
    "The first step in working with text data is to preprocess it. Make sure you do the following:\n",
    "\n",
    "* Remove punctuation and stop words. The `rem_punc_stop()` function we used in lab is provided to you but you should feel free to edit it as necessary for other steps\n",
    "* Remove tokens that occur frequently in tweets, but may not be helpful for downstream classification. For instance, many tweets contain a flag for retweeting, or share a URL \n",
    "\n",
    "As you search online, you might run into solutions that rely on regular expressions. You are free to use these, but you should also be able to preprocess using the techniques we covered in lab. Specifically, we encourage you to use spaCy's token attributes and string methods to do some of this text preprocessing."
   ]
  },
  {
   "cell_type": "code",
   "execution_count": 5,
   "metadata": {},
   "outputs": [
    {
     "data": {
      "text/plain": [
       "'!\"#$%&\\'()*+,-./:;<=>?@[\\\\]^_`{|}~'"
      ]
     },
     "execution_count": 5,
     "metadata": {},
     "output_type": "execute_result"
    }
   ],
   "source": [
    "punctuation"
   ]
  },
  {
   "cell_type": "code",
   "execution_count": 6,
   "metadata": {},
   "outputs": [],
   "source": [
    "#function to remove graphical emojis\n",
    "#copied from: https://stackoverflow.com/questions/33404752/removing-emojis-from-a-string-in-python/50602709#50602709\n",
    "\n",
    "def deEmojify(text):\n",
    "    regrex_pattern = re.compile(pattern = \"[\"\n",
    "        u\"\\U0001F600-\\U0001F64F\"  # emoticons\n",
    "        u\"\\U0001F300-\\U0001F5FF\"  # symbols & pictographs\n",
    "        u\"\\U0001F680-\\U0001F6FF\"  # transport & map symbols\n",
    "        u\"\\U0001F1E0-\\U0001F1FF\"  # flags (iOS)\n",
    "                           \"]+\", flags = re.UNICODE)\n",
    "    return regrex_pattern.sub(r'',text)"
   ]
  },
  {
   "cell_type": "code",
   "execution_count": 7,
   "metadata": {},
   "outputs": [],
   "source": [
    "def rem_punc_stop(text):\n",
    "    stop_words = STOP_WORDS\n",
    "    punc = set(punctuation) #should get rid of hashtags and @s\n",
    "    \n",
    "    punc_free = \"\".join([ch for ch in text if ch not in punc]) #turns text into a string object\n",
    "    \n",
    "    punc_free = punc_free.lower() #lower-case the words\n",
    "    \n",
    "    punc_free = punc_free.replace('rt', '') #delete rt\n",
    "    \n",
    "    punc_free = punc_free.replace('qt', '') #delete qt\n",
    "    \n",
    "    punc_free = punc_free.replace('amp', '') #delete ampersand\n",
    "    \n",
    "    punc_free = deEmojify(punc_free) #remove graphical emojis\n",
    "    \n",
    "    punc_free = \" \".join(punc_free.split()) #removes all whitespace characters (space, line breaks, etc.)\n",
    "\n",
    "    #punc_free = punc_free.replace('\\n', '') #remove line breaks\n",
    "    \n",
    "    doc = nlp(punc_free)\n",
    "    \n",
    "    spacy_words = [token.text for token in doc]\n",
    "    \n",
    "    spacy_words = [word for word in spacy_words if not word.startswith('http')]\n",
    "    \n",
    "    no_punc = [word for word in spacy_words if word not in stop_words]\n",
    "    \n",
    "    return no_punc"
   ]
  },
  {
   "cell_type": "code",
   "execution_count": 8,
   "metadata": {},
   "outputs": [
    {
     "data": {
      "text/plain": [
       "13642     [voting, right, end, trump, fakeemergency, nyt...\n",
       "138713    [people, need, food, medicine, roof, head, sur...\n",
       "249065    [repvaldemings, lets, straight, pay, fighting,...\n",
       "911553    [wsdot, receive, 73, million, grant, puget, so...\n",
       "843615    [american, taxpayers, subsidizing, chinese, st...\n",
       "                                ...                        \n",
       "109534    [proud, introduce, bipaisan, exercise, fitness...\n",
       "904389    [pleased, dhs, plans, investigate, events, led...\n",
       "690232    [repjohnlewis, today, house, passed, hr, 4, vo...\n",
       "699583    [live, bloombergradio, tv, 1240, pm, radio, si...\n",
       "538261    [man, committed, terrorist, act, tennessee, ch...\n",
       "Name: tokens, Length: 5000, dtype: object"
      ]
     },
     "execution_count": 8,
     "metadata": {},
     "output_type": "execute_result"
    }
   ],
   "source": [
    "congress_tweets['tokens'] = congress_tweets['text'].map(lambda x: rem_punc_stop(x))\n",
    "congress_tweets['tokens']"
   ]
  },
  {
   "cell_type": "markdown",
   "metadata": {},
   "source": [
    "## Adding Feature Indicating the Tweet Language"
   ]
  },
  {
   "cell_type": "markdown",
   "metadata": {},
   "source": [
    "Since some of the tweets are in non-English languages, we added a column to the dataframe that indicates the language of the tweet as identified by spaCy. "
   ]
  },
  {
   "cell_type": "code",
   "execution_count": 9,
   "metadata": {},
   "outputs": [
    {
     "name": "stdout",
     "output_type": "stream",
     "text": [
      "{'language': 'UNKNOWN', 'score': 0.0}\n",
      "{'language': 'en', 'score': 0.9999979430358136}\n"
     ]
    }
   ],
   "source": [
    "#example of how it works and what is output\n",
    "test_text = ['.', 'this is a test string']\n",
    "for text in test_text:\n",
    "    doc = nlp(text)\n",
    "    print(doc._.language)"
   ]
  },
  {
   "cell_type": "code",
   "execution_count": 10,
   "metadata": {},
   "outputs": [],
   "source": [
    "#code adapted from: https://www.kaggle.com/shawamar/language-detection-using-spacy\n",
    "#LL note 2/14/21: note that w/ 5000 tweets, this took me ~3 minutes to run\n",
    "\n",
    "#create container for tweet languages and loop through text column of dataframe\n",
    "tweets = congress_tweets['text']\n",
    "languages_spacy = []\n",
    "\n",
    "for text in tweets:\n",
    "    doc = nlp(text)\n",
    "    languages_spacy.append(list(doc._.language.values())[0])\n",
    "\n",
    "#add column to df indicating language of tweet\n",
    "congress_tweets['languages_spacy'] = languages_spacy"
   ]
  },
  {
   "cell_type": "code",
   "execution_count": 11,
   "metadata": {},
   "outputs": [
    {
     "data": {
      "text/html": [
       "<div>\n",
       "<style scoped>\n",
       "    .dataframe tbody tr th:only-of-type {\n",
       "        vertical-align: middle;\n",
       "    }\n",
       "\n",
       "    .dataframe tbody tr th {\n",
       "        vertical-align: top;\n",
       "    }\n",
       "\n",
       "    .dataframe thead th {\n",
       "        text-align: right;\n",
       "    }\n",
       "</style>\n",
       "<table border=\"1\" class=\"dataframe\">\n",
       "  <thead>\n",
       "    <tr style=\"text-align: right;\">\n",
       "      <th></th>\n",
       "      <th>tweet_id</th>\n",
       "      <th>screen_name</th>\n",
       "      <th>datetime</th>\n",
       "      <th>text</th>\n",
       "      <th>name_wikipedia</th>\n",
       "      <th>position</th>\n",
       "      <th>joined_congress_date</th>\n",
       "      <th>birthday</th>\n",
       "      <th>gender</th>\n",
       "      <th>state</th>\n",
       "      <th>district_number</th>\n",
       "      <th>party</th>\n",
       "      <th>trump_2016_state_share</th>\n",
       "      <th>clinton_2016_state_share</th>\n",
       "      <th>obama_2012_state_share</th>\n",
       "      <th>romney_2012_state_share</th>\n",
       "      <th>tokens</th>\n",
       "      <th>languages_spacy</th>\n",
       "    </tr>\n",
       "  </thead>\n",
       "  <tbody>\n",
       "    <tr>\n",
       "      <th>13642</th>\n",
       "      <td>1.100540e+18</td>\n",
       "      <td>RepRubenGallego</td>\n",
       "      <td>2019-02-26T18:25:27-05:00</td>\n",
       "      <td>We’re voting right now to end Trump’s #FakeEme...</td>\n",
       "      <td>Ruben Gallego</td>\n",
       "      <td>Rep</td>\n",
       "      <td>3-Jan-15</td>\n",
       "      <td>11/20/1979</td>\n",
       "      <td>M</td>\n",
       "      <td>AZ</td>\n",
       "      <td>7</td>\n",
       "      <td>Democrat</td>\n",
       "      <td>1,252,401</td>\n",
       "      <td>1,161,167</td>\n",
       "      <td>1,025,232</td>\n",
       "      <td>1,233,654</td>\n",
       "      <td>[voting, right, end, trump, fakeemergency, nyt...</td>\n",
       "      <td>en</td>\n",
       "    </tr>\n",
       "    <tr>\n",
       "      <th>138713</th>\n",
       "      <td>1.292860e+18</td>\n",
       "      <td>RepRoKhanna</td>\n",
       "      <td>2020-08-10T12:32:00-04:00</td>\n",
       "      <td>People need food, medicine, and a roof over th...</td>\n",
       "      <td>Ro Khanna</td>\n",
       "      <td>Rep</td>\n",
       "      <td>3-Jan-17</td>\n",
       "      <td>9/13/1976</td>\n",
       "      <td>M</td>\n",
       "      <td>CA</td>\n",
       "      <td>17</td>\n",
       "      <td>Democrat</td>\n",
       "      <td>4,483,814</td>\n",
       "      <td>8,753,792</td>\n",
       "      <td>7,854,285</td>\n",
       "      <td>4,839,958</td>\n",
       "      <td>[people, need, food, medicine, roof, head, sur...</td>\n",
       "      <td>en</td>\n",
       "    </tr>\n",
       "    <tr>\n",
       "      <th>249065</th>\n",
       "      <td>1.304120e+18</td>\n",
       "      <td>RepValDemings</td>\n",
       "      <td>2020-09-10T14:16:19-04:00</td>\n",
       "      <td>RT @RepValDemings Let's get this straight: the...</td>\n",
       "      <td>Val Demings</td>\n",
       "      <td>Rep</td>\n",
       "      <td>3-Jan-17</td>\n",
       "      <td>3/12/1957</td>\n",
       "      <td>F</td>\n",
       "      <td>FL</td>\n",
       "      <td>10</td>\n",
       "      <td>Democrat</td>\n",
       "      <td>4,617,886</td>\n",
       "      <td>4,504,975</td>\n",
       "      <td>4,237,756</td>\n",
       "      <td>4,163,447</td>\n",
       "      <td>[repvaldemings, lets, straight, pay, fighting,...</td>\n",
       "      <td>en</td>\n",
       "    </tr>\n",
       "    <tr>\n",
       "      <th>911553</th>\n",
       "      <td>1.272670e+18</td>\n",
       "      <td>RepAdamSmith</td>\n",
       "      <td>2020-06-15T19:19:40-04:00</td>\n",
       "      <td>The @wsdot will receive a $73 million grant fo...</td>\n",
       "      <td>Adam Smith</td>\n",
       "      <td>Rep</td>\n",
       "      <td>3-Jan-97</td>\n",
       "      <td>6/15/1965</td>\n",
       "      <td>M</td>\n",
       "      <td>WA</td>\n",
       "      <td>9</td>\n",
       "      <td>Democrat</td>\n",
       "      <td>1,221,747</td>\n",
       "      <td>1,742,718</td>\n",
       "      <td>1,755,396</td>\n",
       "      <td>1,290,670</td>\n",
       "      <td>[wsdot, receive, 73, million, grant, puget, so...</td>\n",
       "      <td>en</td>\n",
       "    </tr>\n",
       "    <tr>\n",
       "      <th>843615</th>\n",
       "      <td>1.125780e+18</td>\n",
       "      <td>SenMikeLee</td>\n",
       "      <td>2019-05-07T10:57:05-04:00</td>\n",
       "      <td>Why are American taxpayers subsidizing Chinese...</td>\n",
       "      <td>Mike Lee</td>\n",
       "      <td>Sen</td>\n",
       "      <td>3-Jan-19</td>\n",
       "      <td>6/4/1971</td>\n",
       "      <td>M</td>\n",
       "      <td>UT</td>\n",
       "      <td>Senate</td>\n",
       "      <td>Republican</td>\n",
       "      <td>515,231</td>\n",
       "      <td>310,676</td>\n",
       "      <td>251,813</td>\n",
       "      <td>740,600</td>\n",
       "      <td>[american, taxpayers, subsidizing, chinese, st...</td>\n",
       "      <td>en</td>\n",
       "    </tr>\n",
       "  </tbody>\n",
       "</table>\n",
       "</div>"
      ],
      "text/plain": [
       "            tweet_id      screen_name                   datetime  \\\n",
       "13642   1.100540e+18  RepRubenGallego  2019-02-26T18:25:27-05:00   \n",
       "138713  1.292860e+18      RepRoKhanna  2020-08-10T12:32:00-04:00   \n",
       "249065  1.304120e+18    RepValDemings  2020-09-10T14:16:19-04:00   \n",
       "911553  1.272670e+18     RepAdamSmith  2020-06-15T19:19:40-04:00   \n",
       "843615  1.125780e+18       SenMikeLee  2019-05-07T10:57:05-04:00   \n",
       "\n",
       "                                                     text name_wikipedia  \\\n",
       "13642   We’re voting right now to end Trump’s #FakeEme...  Ruben Gallego   \n",
       "138713  People need food, medicine, and a roof over th...      Ro Khanna   \n",
       "249065  RT @RepValDemings Let's get this straight: the...    Val Demings   \n",
       "911553  The @wsdot will receive a $73 million grant fo...     Adam Smith   \n",
       "843615  Why are American taxpayers subsidizing Chinese...       Mike Lee   \n",
       "\n",
       "       position joined_congress_date    birthday gender state district_number  \\\n",
       "13642       Rep             3-Jan-15  11/20/1979      M    AZ               7   \n",
       "138713      Rep             3-Jan-17   9/13/1976      M    CA              17   \n",
       "249065      Rep             3-Jan-17   3/12/1957      F    FL              10   \n",
       "911553      Rep             3-Jan-97   6/15/1965      M    WA               9   \n",
       "843615      Sen             3-Jan-19    6/4/1971      M    UT          Senate   \n",
       "\n",
       "             party trump_2016_state_share clinton_2016_state_share  \\\n",
       "13642     Democrat              1,252,401                1,161,167   \n",
       "138713    Democrat              4,483,814                8,753,792   \n",
       "249065    Democrat              4,617,886                4,504,975   \n",
       "911553    Democrat              1,221,747                1,742,718   \n",
       "843615  Republican                515,231                  310,676   \n",
       "\n",
       "       obama_2012_state_share romney_2012_state_share  \\\n",
       "13642               1,025,232               1,233,654   \n",
       "138713              7,854,285               4,839,958   \n",
       "249065              4,237,756               4,163,447   \n",
       "911553              1,755,396               1,290,670   \n",
       "843615                251,813                 740,600   \n",
       "\n",
       "                                                   tokens languages_spacy  \n",
       "13642   [voting, right, end, trump, fakeemergency, nyt...              en  \n",
       "138713  [people, need, food, medicine, roof, head, sur...              en  \n",
       "249065  [repvaldemings, lets, straight, pay, fighting,...              en  \n",
       "911553  [wsdot, receive, 73, million, grant, puget, so...              en  \n",
       "843615  [american, taxpayers, subsidizing, chinese, st...              en  "
      ]
     },
     "execution_count": 11,
     "metadata": {},
     "output_type": "execute_result"
    }
   ],
   "source": [
    "congress_tweets.head()"
   ]
  },
  {
   "cell_type": "markdown",
   "metadata": {},
   "source": [
    "## Exploratory Data Analysis"
   ]
  },
  {
   "cell_type": "markdown",
   "metadata": {},
   "source": [
    "Use two of the techniques we covered in lab (or other techniques outside of lab!) to explore the text of the tweets. You should construct these visualizations with an eye toward the eventual classification tasks: (1) predicting the legislator's political party based on the text of their tweet, and (2) predicting whether the legislator is a Senator or Representative. As a reminder, in lab we covered word frequencies, word clouds, word/character counts, scattertext, and topic modeling as possible exploration tools. "
   ]
  },
  {
   "cell_type": "markdown",
   "metadata": {},
   "source": [
    "Before beginning our EDA, we wanted to get a feel for our data so we first plot a series of count plots."
   ]
  },
  {
   "cell_type": "code",
   "execution_count": 12,
   "metadata": {},
   "outputs": [
    {
     "data": {
      "image/png": "[encoded data removed]",
      "text/plain": [
       "<Figure size 432x288 with 1 Axes>"
      ]
     },
     "metadata": {
      "needs_background": "light"
     },
     "output_type": "display_data"
    }
   ],
   "source": [
    "# looking at the number of tweets by Dem/Repub and by Senator/Representative\n",
    "sns.countplot(x=\"party\", hue = \"position\", data=congress_tweets);"
   ]
  },
  {
   "cell_type": "markdown",
   "metadata": {},
   "source": [
    "The plot above shows that representatives tweet more than Senators. But this may be due to the fact that there are more representatives than senators. It also appears that among Representatives, Democrats tweet more than Republicans. But lets look at the underlying makeup of our data."
   ]
  },
  {
   "cell_type": "code",
   "execution_count": 13,
   "metadata": {},
   "outputs": [
    {
     "data": {
      "image/png": "[encoded data removed]",
      "text/plain": [
       "<Figure size 432x288 with 1 Axes>"
      ]
     },
     "metadata": {
      "needs_background": "light"
     },
     "output_type": "display_data"
    }
   ],
   "source": [
    "# looking at the number of tweets by Dem/Repub and by Senator/Representative\n",
    "# plotting only unique rows\n",
    "test = congress_tweets.drop_duplicates(subset = [\"screen_name\"])\n",
    "sns.countplot(x=\"party\", hue = \"position\", data=test);"
   ]
  },
  {
   "cell_type": "code",
   "execution_count": 14,
   "metadata": {},
   "outputs": [
    {
     "data": {
      "text/html": [
       "<div>\n",
       "<style scoped>\n",
       "    .dataframe tbody tr th:only-of-type {\n",
       "        vertical-align: middle;\n",
       "    }\n",
       "\n",
       "    .dataframe tbody tr th {\n",
       "        vertical-align: top;\n",
       "    }\n",
       "\n",
       "    .dataframe thead th {\n",
       "        text-align: right;\n",
       "    }\n",
       "</style>\n",
       "<table border=\"1\" class=\"dataframe\">\n",
       "  <thead>\n",
       "    <tr style=\"text-align: right;\">\n",
       "      <th>position</th>\n",
       "      <th>Rep</th>\n",
       "      <th>Sen</th>\n",
       "    </tr>\n",
       "    <tr>\n",
       "      <th>party</th>\n",
       "      <th></th>\n",
       "      <th></th>\n",
       "    </tr>\n",
       "  </thead>\n",
       "  <tbody>\n",
       "    <tr>\n",
       "      <th>Democrat</th>\n",
       "      <td>201</td>\n",
       "      <td>38</td>\n",
       "    </tr>\n",
       "    <tr>\n",
       "      <th>Independent</th>\n",
       "      <td>0</td>\n",
       "      <td>2</td>\n",
       "    </tr>\n",
       "    <tr>\n",
       "      <th>Republican</th>\n",
       "      <td>160</td>\n",
       "      <td>47</td>\n",
       "    </tr>\n",
       "  </tbody>\n",
       "</table>\n",
       "</div>"
      ],
      "text/plain": [
       "position     Rep  Sen\n",
       "party                \n",
       "Democrat     201   38\n",
       "Independent    0    2\n",
       "Republican   160   47"
      ]
     },
     "execution_count": 14,
     "metadata": {},
     "output_type": "execute_result"
    }
   ],
   "source": [
    "# getting the numbers from the plots above\n",
    "pd.crosstab(test.party, test.position)"
   ]
  },
  {
   "cell_type": "markdown",
   "metadata": {},
   "source": [
    "We see a similar breakdown looking only at breakdown of Senators and Representatives in our dataset. Comparing the results to the first plot suggests that Democratic Representatives do tweet more than Republican representatives. While there are clearly more Democratic representatives than Republicans (200 compared to 156), Democratic Representatives tweeted 2,537 times while Republican Representatives tweeted 1,272 times.\n",
    "\n",
    "Before moving on, we want to check if these findings are driven in part by gender. We may expect, for example, that male members of Congress tweet more than female members."
   ]
  },
  {
   "cell_type": "code",
   "execution_count": 15,
   "metadata": {},
   "outputs": [
    {
     "data": {
      "image/png": "[encoded data removed]",
      "text/plain": [
       "<Figure size 558.75x360 with 2 Axes>"
      ]
     },
     "metadata": {
      "needs_background": "light"
     },
     "output_type": "display_data"
    }
   ],
   "source": [
    "sns.catplot(x=\"party\", hue = \"position\", col=\"gender\",\n",
    "            data=congress_tweets, kind=\"count\",\n",
    "            height=5, aspect=.7);"
   ]
  },
  {
   "cell_type": "markdown",
   "metadata": {},
   "source": [
    "While Democratic Representatives still tweet more than Republicans, male Representatives in both parties tweet more than their female counterparts (but this is also likely influenced by the fact that there are more male representatives than female representatives)."
   ]
  },
  {
   "cell_type": "markdown",
   "metadata": {},
   "source": [
    "### EDA 1"
   ]
  },
  {
   "cell_type": "markdown",
   "metadata": {},
   "source": [
    "To get a better sense of common words, we first plot a word cloud of the tweets."
   ]
  },
  {
   "cell_type": "code",
   "execution_count": 16,
   "metadata": {},
   "outputs": [
    {
     "data": {
      "image/png": "[encoded data removed]",
      "text/plain": [
       "<Figure size 432x288 with 1 Axes>"
      ]
     },
     "metadata": {
      "needs_background": "light"
     },
     "output_type": "display_data"
    }
   ],
   "source": [
    "from wordcloud import WordCloud, STOPWORDS, ImageColorGenerator\n",
    "\n",
    "# Convert list of tokens back to string\n",
    "text = ' '.join(congress_tweets['tokens'].map(lambda text: ' '.join(text)))\n",
    "# feed string to wordcloud\n",
    "wordcloud = WordCloud(background_color = \"white\").generate(text)\n",
    "# plot!\n",
    "plt.imshow(wordcloud, interpolation = 'bilinear')\n",
    "plt.axis('off')\n",
    "plt.show()"
   ]
  },
  {
   "cell_type": "markdown",
   "metadata": {},
   "source": [
    "Many of the largest words in the word cloud are fairly predictable: today, american, thank, need, and help."
   ]
  },
  {
   "cell_type": "code",
   "execution_count": 17,
   "metadata": {},
   "outputs": [
    {
     "data": {
      "image/png": "[encoded data removed]",
      "text/plain": [
       "<Figure size 819.25x360 with 2 Axes>"
      ]
     },
     "metadata": {
      "needs_background": "light"
     },
     "output_type": "display_data"
    }
   ],
   "source": [
    "# adding length columns\n",
    "congress_tweets['tweet_len'] = congress_tweets['text'].apply(len)\n",
    "congress_tweets['word_count'] = congress_tweets['text'].apply(lambda x: len(str(x).split()))\n",
    "sns.displot(congress_tweets, x=\"word_count\", hue = \"party\", col = \"gender\")\n",
    "plt.show()"
   ]
  },
  {
   "cell_type": "code",
   "execution_count": 18,
   "metadata": {},
   "outputs": [
    {
     "data": {
      "image/png": "[encoded data removed]",
      "text/plain": [
       "<Figure size 1124.62x360 with 3 Axes>"
      ]
     },
     "metadata": {
      "needs_background": "light"
     },
     "output_type": "display_data"
    }
   ],
   "source": [
    "sns.displot(congress_tweets, x=\"word_count\", hue = \"gender\", col = \"party\")\n",
    "plt.show()"
   ]
  },
  {
   "cell_type": "code",
   "execution_count": 19,
   "metadata": {},
   "outputs": [
    {
     "data": {
      "image/png": "[encoded data removed]",
      "text/plain": [
       "<Figure size 819.25x360 with 2 Axes>"
      ]
     },
     "metadata": {
      "needs_background": "light"
     },
     "output_type": "display_data"
    }
   ],
   "source": [
    "sns.displot(congress_tweets, x=\"word_count\", hue = \"party\", col = \"position\")\n",
    "plt.show()"
   ]
  },
  {
   "cell_type": "markdown",
   "metadata": {},
   "source": [
    "### EDA 2"
   ]
  },
  {
   "cell_type": "markdown",
   "metadata": {},
   "source": [
    "For our second EDA, we opted to try LDA."
   ]
  },
  {
   "cell_type": "code",
   "execution_count": 20,
   "metadata": {},
   "outputs": [],
   "source": [
    "# removing Independent representatives because it's only a few representatives but pretty distinct from Repub/Dem\n",
    "no_indep = congress_tweets[congress_tweets.party != 'Independent']\n",
    "X = no_indep['text']\n",
    "\n",
    "tf = TfidfVectorizer(tokenizer = rem_punc_stop)\n",
    "\n",
    "tfidf_matrix =  tf.fit_transform(X)\n",
    "dense_matrix = tfidf_matrix.todense()"
   ]
  },
  {
   "cell_type": "code",
   "execution_count": 21,
   "metadata": {},
   "outputs": [],
   "source": [
    "from sklearn.decomposition import LatentDirichletAllocation\n",
    "\n",
    "lda = LatentDirichletAllocation(n_components=7, max_iter=20, random_state=0)\n",
    "lda = lda.fit(dense_matrix)"
   ]
  },
  {
   "cell_type": "code",
   "execution_count": 22,
   "metadata": {},
   "outputs": [],
   "source": [
    "def print_top_words(model, feature_names, n_top_words):\n",
    "    for topic_idx, topic in enumerate(model.components_):\n",
    "        print(\"\\nTopic #{}:\".format(topic_idx))\n",
    "        print(\" \".join([feature_names[i]\n",
    "                        for i in topic.argsort()[:-n_top_words - 1:-1]]))\n",
    "    print()"
   ]
  },
  {
   "cell_type": "code",
   "execution_count": 23,
   "metadata": {},
   "outputs": [
    {
     "name": "stdout",
     "output_type": "stream",
     "text": [
      "\n",
      "Topic #0:\n",
      "wear happy la wash y jose de coney amy el en christmas celebrating 25 mask close normandy merry volunteers waiting\n",
      "\n",
      "Topic #1:\n",
      "neverforget worried modern worker rock financialcmte privacy bigger fl07 retweet • hate savethenet sites senbobcasey secret 830 immigrant requests sick\n",
      "\n",
      "Topic #2:\n",
      "de found hate measles hardworking king upcoming officer december halls san delaware housescience truly dying anniversary disgusting navajo mlkday 27\n",
      "\n",
      "Topic #3:\n",
      "rulesdemocrats pfas anniversary read de yorkers jewish wear los standing alliance bolton repespaillat control happybihdaymarines repgregorymeeks wwii problem falls reviewing\n",
      "\n",
      "Topic #4:\n",
      "board environmental stake deserves wage list guilty edlaborcmte condition undermine 35 anniversary survey repeal asylum 2021 african targeted behavior text\n",
      "\n",
      "Topic #5:\n",
      "bless representation protected close religious happy cruz markup connecticut nydiavelazquez repaoc dreamers de fauci que offered repjudychu signing nurses lowerdrugcostsnow\n",
      "\n",
      "Topic #6:\n",
      "today president people trump act need american health help covid19 house congress time work americans new bill suppo thank “\n",
      "\n"
     ]
    }
   ],
   "source": [
    "tf_feature_names = tf.get_feature_names()\n",
    "print_top_words(lda, tf_feature_names, 20)"
   ]
  },
  {
   "cell_type": "code",
   "execution_count": 24,
   "metadata": {},
   "outputs": [
    {
     "name": "stdout",
     "output_type": "stream",
     "text": [
      "party\n",
      "Republican    0.069730\n",
      "Democrat      0.066724\n",
      "Name: 0, dtype: float64\n",
      "party\n",
      "Republican    0.063377\n",
      "Democrat      0.057739\n",
      "Name: 1, dtype: float64\n",
      "party\n",
      "Republican    0.066634\n",
      "Democrat      0.063809\n",
      "Name: 2, dtype: float64\n",
      "party\n",
      "Republican    0.066309\n",
      "Democrat      0.063686\n",
      "Name: 3, dtype: float64\n",
      "party\n",
      "Democrat      0.068440\n",
      "Republican    0.066861\n",
      "Name: 4, dtype: float64\n",
      "party\n",
      "Republican    0.072891\n",
      "Democrat      0.066270\n",
      "Name: 5, dtype: float64\n",
      "party\n",
      "Democrat      0.613331\n",
      "Republican    0.594198\n",
      "Name: 6, dtype: float64\n"
     ]
    }
   ],
   "source": [
    "# assigning topic weights\n",
    "topic_dist = lda.transform(tfidf_matrix)\n",
    "\n",
    "topic_dist_df = pd.DataFrame(topic_dist)\n",
    "df_w_topics = topic_dist_df.join(no_indep.reset_index())\n",
    "\n",
    "grouped = df_w_topics.groupby('party')\n",
    "for i in range(0, 7):\n",
    "    print(grouped[i].mean().sort_values(ascending=False))"
   ]
  },
  {
   "cell_type": "markdown",
   "metadata": {},
   "source": [
    "Topics 0 and 1 seem to have the most divergence--even though the differences are pretty small. We tried a range of topic sizes (e.g., 4 to 30) and these were the best we could get. Most differences were less than one percentage point."
   ]
  },
  {
   "cell_type": "code",
   "execution_count": 25,
   "metadata": {},
   "outputs": [
    {
     "data": {
      "image/png": "[encoded data removed]",
      "text/plain": [
       "<Figure size 451.125x360 with 1 Axes>"
      ]
     },
     "metadata": {
      "needs_background": "light"
     },
     "output_type": "display_data"
    }
   ],
   "source": [
    "sns.displot(df_w_topics, x=df_w_topics[0], hue = \"party\", kind = 'kde', fill = 'true')\n",
    "plt.show()"
   ]
  },
  {
   "cell_type": "code",
   "execution_count": 26,
   "metadata": {},
   "outputs": [
    {
     "data": {
      "image/png": "[encoded data removed]",
      "text/plain": [
       "<Figure size 414.75x360 with 1 Axes>"
      ]
     },
     "metadata": {
      "needs_background": "light"
     },
     "output_type": "display_data"
    }
   ],
   "source": [
    "sns.displot(df_w_topics, x=df_w_topics[5], hue = \"position\", kind = 'kde', fill = 'true')\n",
    "plt.show()"
   ]
  },
  {
   "cell_type": "markdown",
   "metadata": {},
   "source": [
    "Ultimately, the topics do not distinguish well between Senators and Representatives or Republicans and Democrats."
   ]
  },
  {
   "cell_type": "markdown",
   "metadata": {},
   "source": [
    "## Sentiment Analysis"
   ]
  },
  {
   "cell_type": "markdown",
   "metadata": {},
   "source": [
    "Next, let's analyze the sentiments contained within the tweets. You may use TextBlob or another library for these tasks. Do the following:\n",
    "\n",
    "* Choose two legislators, one who you think will be more liberal and one who you think will be more conservative, and analyze their sentiment and/or subjectivity scores per tweet. For instance, you might do two scatterplots that plot each legislator's sentiment against their subjectivity, or two density plots for their sentiments. Do the scores match what you thought?\n",
    "* Plot two more visualizations like the ones you chose in the first part, but do them to compare (1) Democrats v. Republicans and (2) Senators v. Representatives \n",
    "\n",
    "`TextBlob` has already been imported in the top cell."
   ]
  },
  {
   "cell_type": "code",
   "execution_count": 27,
   "metadata": {},
   "outputs": [
    {
     "name": "stderr",
     "output_type": "stream",
     "text": [
      "<ipython-input-27-b3276d03daee>:6: SettingWithCopyWarning: \n",
      "A value is trying to be set on a copy of a slice from a DataFrame.\n",
      "Try using .loc[row_indexer,col_indexer] = value instead\n",
      "\n",
      "See the caveats in the documentation: https://pandas.pydata.org/pandas-docs/stable/user_guide/indexing.html#returning-a-view-versus-a-copy\n",
      "  pg_tweets['polarity'] = pg_tweets['tokens'].map(lambda text: TextBlob(text).sentiment.polarity)\n",
      "<ipython-input-27-b3276d03daee>:7: SettingWithCopyWarning: \n",
      "A value is trying to be set on a copy of a slice from a DataFrame.\n",
      "Try using .loc[row_indexer,col_indexer] = value instead\n",
      "\n",
      "See the caveats in the documentation: https://pandas.pydata.org/pandas-docs/stable/user_guide/indexing.html#returning-a-view-versus-a-copy\n",
      "  pg_tweets['subjectivity'] = pg_tweets['tokens'].map(lambda text: TextBlob(text).sentiment.subjectivity)\n",
      "<ipython-input-27-b3276d03daee>:11: SettingWithCopyWarning: \n",
      "A value is trying to be set on a copy of a slice from a DataFrame.\n",
      "Try using .loc[row_indexer,col_indexer] = value instead\n",
      "\n",
      "See the caveats in the documentation: https://pandas.pydata.org/pandas-docs/stable/user_guide/indexing.html#returning-a-view-versus-a-copy\n",
      "  bl_tweets['polarity'] = bl_tweets['tokens'].map(lambda text: TextBlob(text).sentiment.polarity)\n",
      "<ipython-input-27-b3276d03daee>:12: SettingWithCopyWarning: \n",
      "A value is trying to be set on a copy of a slice from a DataFrame.\n",
      "Try using .loc[row_indexer,col_indexer] = value instead\n",
      "\n",
      "See the caveats in the documentation: https://pandas.pydata.org/pandas-docs/stable/user_guide/indexing.html#returning-a-view-versus-a-copy\n",
      "  bl_tweets['subjectivity'] = bl_tweets['tokens'].map(lambda text: TextBlob(text).sentiment.subjectivity)\n"
     ]
    }
   ],
   "source": [
    "# More conservative representative: Paul Gosar\n",
    "congress_tweets['tokens'] = congress_tweets['tokens'].map(lambda text: ' '.join(text))\n",
    "pg_tweets = congress_tweets[congress_tweets.name_wikipedia == 'Paul Gosar']\n",
    "\n",
    "#congress_tweets['tokens'] = congress_tweets['tokens'].map(lambda text: ' '.join(text))\n",
    "pg_tweets['polarity'] = pg_tweets['tokens'].map(lambda text: TextBlob(text).sentiment.polarity)\n",
    "pg_tweets['subjectivity'] = pg_tweets['tokens'].map(lambda text: TextBlob(text).sentiment.subjectivity)\n",
    "\n",
    "# More liberal representative: Barbara Lee\n",
    "bl_tweets = congress_tweets[congress_tweets.name_wikipedia == 'Barbara Lee']\n",
    "bl_tweets['polarity'] = bl_tweets['tokens'].map(lambda text: TextBlob(text).sentiment.polarity)\n",
    "bl_tweets['subjectivity'] = bl_tweets['tokens'].map(lambda text: TextBlob(text).sentiment.subjectivity)\n",
    "\n",
    "# combining data frames\n",
    "frames = [pg_tweets, bl_tweets]\n",
    "polarity_df = pd.concat(frames)"
   ]
  },
  {
   "cell_type": "code",
   "execution_count": 28,
   "metadata": {},
   "outputs": [
    {
     "data": {
      "image/png": "[encoded data removed]",
      "text/plain": [
       "<Figure size 816.5x360 with 2 Axes>"
      ]
     },
     "metadata": {
      "needs_background": "light"
     },
     "output_type": "display_data"
    }
   ],
   "source": [
    "sns.displot(polarity_df, x=\"polarity\", hue = \"name_wikipedia\", col = \"name_wikipedia\")\n",
    "plt.show()"
   ]
  },
  {
   "cell_type": "code",
   "execution_count": 29,
   "metadata": {},
   "outputs": [
    {
     "name": "stdout",
     "output_type": "stream",
     "text": [
      "Trump is trying to rip food assistance away from hungry families just before the holidays. It’s absolutely disgusting – Congress needs to pass the Protect #SNAP Act to stop that from happening. #HandsOffSNAP https://thehill.com/blogs/congress-blog/politics/474320-trump-administrations-plans-for-snap-are-a-shove-down-not-a-hand\n",
      "\n",
      "RT @dustingardiner Bay Area @RepBarbaraLee, D-Oakland, has quickly emerged as one of fiercest critics of Suleimani killing.\n",
      "\n",
      "\"The airstrike... without Congressional authorization is a dangerous escalation of tensions with Iran that brings us close to the brink of war.\" @sfchronicle http://pbs.twimg.com/media/ENXgl3qX0AAmFxP.jpg\n",
      "\n",
      "On Gun Violence Awareness Day, we remember the 36,000 Americans who are killed by guns each year, and the many more who are shot and seriously injured. We can never accept this as normal.\n",
      "https://wearorange.org/ http://pbs.twimg.com/media/EZzajQXU4AAt4js.jpg\n",
      "\n"
     ]
    }
   ],
   "source": [
    "# checking most negative tweets for Barbara Lee\n",
    "for tweet in bl_tweets.nsmallest(3, 'polarity')['text']:\n",
    "    print(tweet + \"\\n\")"
   ]
  },
  {
   "cell_type": "code",
   "execution_count": 30,
   "metadata": {},
   "outputs": [
    {
     "name": "stdout",
     "output_type": "stream",
     "text": [
      "RT @NBCNightlyNews BREAKING: Gunman in deadly US naval base shooting attack is a Saudi national who was in the US for military training, law enforcement sources tells @NBCNews. https://nbcnews.trib.al/2SxwvcM\n",
      "\n",
      "In the face of this dangerous pandemic, @realDonaldTrump is rising to the occasion.\n",
      "\n",
      "Remember to use common sense, wash your hands, stay home if your sick, cover your coughs &amp; sneezes, and follow @CDCgov for all of the latest information.\n",
      "\n",
      "RT @westerncaucus Radically transforming energy consumption under the #GreenNewDeal would cost the average household at least $70,000 in the first year of its rollout. https://www.foxnews.com/politics/green-new-deal-swing-state-households-would-lose-70g-first-year\n",
      "\n"
     ]
    }
   ],
   "source": [
    "# checking most negative tweets for Paul Gosar\n",
    "for tweet in pg_tweets.nsmallest(3, 'polarity')['text']:\n",
    "    print(tweet + \"\\n\")"
   ]
  },
  {
   "cell_type": "code",
   "execution_count": 31,
   "metadata": {},
   "outputs": [
    {
     "data": {
      "image/png": "[encoded data removed]",
      "text/plain": [
       "<Figure size 816.5x360 with 2 Axes>"
      ]
     },
     "metadata": {
      "needs_background": "light"
     },
     "output_type": "display_data"
    }
   ],
   "source": [
    "sns.displot(polarity_df, x=\"subjectivity\", hue = \"name_wikipedia\", col = \"name_wikipedia\")\n",
    "plt.show()"
   ]
  },
  {
   "cell_type": "code",
   "execution_count": 32,
   "metadata": {},
   "outputs": [
    {
     "name": "stdout",
     "output_type": "stream",
     "text": [
      "RT @RepJerryNadler Americans deserve to know what drives their government’s policy-making, especially when it threatens health protections for millions with pre-existing conditions. The Trump Admin must turn over documents regarding DOJ decision to support the Texas v. US lawsuit. #ProtectOurCare\n",
      "\n"
     ]
    }
   ],
   "source": [
    "# checking most subjective tweet for Barbara Lee\n",
    "for tweet in bl_tweets.nlargest(1, 'subjectivity')['text']:\n",
    "    print(tweet + \"\\n\")"
   ]
  },
  {
   "cell_type": "code",
   "execution_count": 33,
   "metadata": {},
   "outputs": [
    {
     "name": "stdout",
     "output_type": "stream",
     "text": [
      "While @axios is known for brevity, don’t you think mentioning they ingested this chemical in the form of fish tank cleaner, NOT medication, is relevant to your readers? @bobjherman @mikeallen http://pbs.twimg.com/media/ET2CNX1XYAUxNpF.jpg\n",
      "\n"
     ]
    }
   ],
   "source": [
    "# checking most subjective tweet for Paul Gosar\n",
    "for tweet in pg_tweets.nlargest(1, 'subjectivity')['text']:\n",
    "    print(tweet + \"\\n\")"
   ]
  },
  {
   "cell_type": "code",
   "execution_count": 34,
   "metadata": {},
   "outputs": [
    {
     "data": {
      "text/plain": [
       "<matplotlib.axes._subplots.AxesSubplot at 0x7fc74717b9a0>"
      ]
     },
     "execution_count": 34,
     "metadata": {},
     "output_type": "execute_result"
    },
    {
     "data": {
      "image/png": "[encoded data removed]",
      "text/plain": [
       "<Figure size 432x288 with 1 Axes>"
      ]
     },
     "metadata": {
      "needs_background": "light"
     },
     "output_type": "display_data"
    }
   ],
   "source": [
    "sns.scatterplot(x = polarity_df['subjectivity'], y = polarity_df['polarity'], hue = polarity_df['name_wikipedia'])"
   ]
  },
  {
   "cell_type": "markdown",
   "metadata": {},
   "source": [
    "The scores for Representatives Paul Gosar (R) and Barbara Lee (D) do not match what we had originally thought. Given Trump's hold on the Republican Party and his outlandishly subjective and negative rhetoric, we thought that Rep. Gosar's tweets would be rated both more subjective and more negative than Rep. Lee's. But in fact, the opposite was true. Looking into what tweets ranked most negative, they are critique's of Trump's COVID response and the impact of COVID-19 on vulnerable communities. For subjectivity, Rep. Lee's tweet about healing from the past and addressing white supremacy ranks the most subjective. In comparison, Rep. Gosar's most subjective tweet is just \"Thank you\". Apparently the model ranks acknowleding and healing from white supremacy as extremeley subjective."
   ]
  },
  {
   "cell_type": "code",
   "execution_count": 35,
   "metadata": {},
   "outputs": [],
   "source": [
    "# now looking at subjectivity and polarity across all members\n",
    "congress_tweets['polarity'] = congress_tweets['tokens'].map(lambda text: TextBlob(text).sentiment.polarity)\n",
    "congress_tweets['subjectivity'] = congress_tweets['tokens'].map(lambda text: TextBlob(text).sentiment.subjectivity)"
   ]
  },
  {
   "cell_type": "code",
   "execution_count": 36,
   "metadata": {},
   "outputs": [
    {
     "data": {
      "image/png": "[encoded data removed]",
      "text/plain": [
       "<Figure size 819.25x360 with 2 Axes>"
      ]
     },
     "metadata": {
      "needs_background": "light"
     },
     "output_type": "display_data"
    }
   ],
   "source": [
    "sns.displot(congress_tweets, x=\"polarity\", hue = \"party\", col = \"position\")\n",
    "plt.show()"
   ]
  },
  {
   "cell_type": "code",
   "execution_count": 38,
   "metadata": {},
   "outputs": [
    {
     "name": "stdout",
     "output_type": "stream",
     "text": [
      "RT @SteveScalise We know Governor Cuomo violated protocols for COVID-19 in nursing homes.\n",
      "\n",
      "We've seen the horrific death toll.\n",
      "\n",
      "Time for a full investigation. Cuomo owes a lot of people a lot of answers. He must be held accountable.\n",
      "\n",
      "My op-ed with @RepTomReed ↓ https://www.washingtonexaminer.com/opinion/op-eds/protect-our-nations-grandparents-investigate-coronavirus-in-nursing-homes\n",
      "\n",
      "https://www.cotton.senate.gov/?p=press_release&id=1375\n",
      "\n",
      ".@TomCottonAR NY Times op-ed well done! Read it!\n",
      "\n",
      "I agree 90%+. However, federal troops should ONLY help if states/cities ask. Don’t force troops on those who prefer #rioting, #looting &amp; murder over peace, law &amp; order.\n",
      "\n",
      "Let USA learn from #Socialist evil.\n",
      "\n",
      "I have been truly moved by the story of @PJGreen, my constituent who is battling ALS. I join @IAmALS today in celebrating these warriors and fighting for #CuresForAll. Every day we get closer to a cure for this terrible disease and I look forward to permanently eradicating ALS. http://pbs.twimg.com/media/EMAbNT2UwAAWE6o.jpg\n",
      "\n"
     ]
    }
   ],
   "source": [
    "# checking most negative tweets\n",
    "for tweet in congress_tweets.nsmallest(3, 'polarity')['text']:\n",
    "    print(tweet + \"\\n\")"
   ]
  },
  {
   "cell_type": "code",
   "execution_count": 38,
   "metadata": {},
   "outputs": [
    {
     "data": {
      "image/png": "[encoded data removed]",
      "text/plain": [
       "<Figure size 819.25x360 with 2 Axes>"
      ]
     },
     "metadata": {
      "needs_background": "light"
     },
     "output_type": "display_data"
    }
   ],
   "source": [
    "sns.displot(congress_tweets, x=\"subjectivity\", hue = \"party\", col = \"position\")\n",
    "plt.show()"
   ]
  },
  {
   "cell_type": "markdown",
   "metadata": {},
   "source": [
    "The trends by party and chamber on both polarity and subjectivity look fairly similar."
   ]
  },
  {
   "cell_type": "markdown",
   "metadata": {},
   "source": [
    "## Featurization"
   ]
  },
  {
   "cell_type": "markdown",
   "metadata": {},
   "source": [
    "Before going to classification, explore different featurization techniques. Create three dataframes or arrays to represent your text features, specifically:\n",
    "\n",
    "* Features engineered from your previous analysis. For example, word counts, sentiment scores, topic model etc.\n",
    "* A term frequency-inverse document frequency matrix. \n",
    "* An embedding-based featurization (like a document averaged word2vec)\n",
    "\n",
    "In the next section, you will experiment with each of these featurization techniques to see which one produces the best classifications."
   ]
  },
  {
   "cell_type": "code",
   "execution_count": 40,
   "metadata": {},
   "outputs": [
    {
     "data": {
      "text/plain": [
       "Index(['tweet_id', 'screen_name', 'datetime', 'text', 'name_wikipedia',\n",
       "       'position', 'joined_congress_date', 'birthday', 'gender', 'state',\n",
       "       'district_number', 'party', 'trump_2016_state_share',\n",
       "       'clinton_2016_state_share', 'obama_2012_state_share',\n",
       "       'romney_2012_state_share', 'tokens', 'languages_spacy', 'tweet_len',\n",
       "       'word_count', 'polarity', 'subjectivity'],\n",
       "      dtype='object')"
      ]
     },
     "execution_count": 40,
     "metadata": {},
     "output_type": "execute_result"
    }
   ],
   "source": [
    "#congress_tweets.columns"
   ]
  },
  {
   "cell_type": "markdown",
   "metadata": {},
   "source": [
    "### Engineered Text Features"
   ]
  },
  {
   "cell_type": "code",
   "execution_count": 51,
   "metadata": {},
   "outputs": [],
   "source": [
    "# Engineered Features\n",
    "engineered_features = congress_tweets[['tweet_len', 'word_count', 'polarity', 'subjectivity']].reset_index(drop = True)\n",
    "\n",
    "# Topic Model + Engineered Features\n",
    "engineered_features_with_topics = topic_dist_df.join(engineered_features.reset_index(drop = True))\n",
    "\n"
   ]
  },
  {
   "cell_type": "markdown",
   "metadata": {},
   "source": [
    "### Bag-of-words or Tf-idf"
   ]
  },
  {
   "cell_type": "code",
   "execution_count": 52,
   "metadata": {},
   "outputs": [],
   "source": [
    "# Frequency Based featurization\n",
    "# Engineered features + tfidf (see above in EDA #2 for steps)\n",
    "tfidf_df = pd.DataFrame(tfidf_matrix.todense(), columns = tf.get_feature_names())"
   ]
  },
  {
   "cell_type": "code",
   "execution_count": 53,
   "metadata": {},
   "outputs": [],
   "source": [
    "dataframes = [engineered_features, \n",
    "              engineered_features_with_topics,\n",
    "              tfidf_df]\n",
    "\n",
    "featurization_technique = ['Engineered Text Features',\n",
    "                            'Engineered Features + Topic Model',\n",
    "                           'Tf-idf Features']"
   ]
  },
  {
   "cell_type": "markdown",
   "metadata": {},
   "source": [
    "### Word Embedding"
   ]
  },
  {
   "cell_type": "code",
   "execution_count": 48,
   "metadata": {},
   "outputs": [],
   "source": [
    "# Load Word2Vec model from Google; OPTIONAL depending on your computational resources (the file is ~1 GB)\n",
    "# Also note that this file path assumes that the word vectors are underneath 'data'; you may wish to point to the CSS course repo and change the path\n",
    "# or move the vector file to the project repo \n",
    "\n",
    "model = gensim.models.KeyedVectors.load_word2vec_format('data/GoogleNews-vectors-negative300.bin.gz', binary = True) "
   ]
  },
  {
   "cell_type": "code",
   "execution_count": 49,
   "metadata": {},
   "outputs": [],
   "source": [
    "# Function to average word embeddings for a document; use examples from lab to apply this function. You can use also other techniques such as PCA and doc2vec instead.\n",
    "def document_vector(word2vec_model, doc):\n",
    "    doc = [word for word in doc if word in model.vocab]\n",
    "    return np.mean(model[doc], axis=0)"
   ]
  },
  {
   "cell_type": "code",
   "execution_count": 50,
   "metadata": {},
   "outputs": [
    {
     "name": "stdout",
     "output_type": "stream",
     "text": [
      "['</s>', 'in', 'for', 'that', 'is', 'on', '##', 'The', 'with', 'said', 'was', 'the', 'at', 'not', 'as', 'it', 'be', 'from', 'by', 'are', 'I', 'have', 'he', 'will', 'has', '####', 'his', 'an', 'this', 'or', 'their', 'who', 'they', 'but', '$', 'had', 'year', 'were', 'we', 'more', '###', 'up', 'been', 'you', 'its', 'one', 'about', 'would', 'which', 'out', 'can', 'It', 'all', 'also', 'two', 'after', 'first', 'He', 'do', 'time', 'than', 'when', 'We', 'over', 'last', 'new', 'other', 'her', 'people', 'into', 'In', 'our', 'there', 'A', 'she', 'could', 'just', 'years', 'some', 'U.S.', 'three', 'million', 'them', 'what', 'But', 'so', 'no', 'like', 'if', 'only', 'percent', 'get', 'did', 'him', 'game', 'back', 'because', 'now', '#.#', 'before']\n"
     ]
    },
    {
     "name": "stderr",
     "output_type": "stream",
     "text": [
      "<ipython-input-50-9a005d0fa935>:2: DeprecationWarning: Call to deprecated `wv` (Attribute will be removed in 4.0.0, use self instead).\n",
      "  words = list(model.wv.vocab)\n"
     ]
    }
   ],
   "source": [
    "# embedding based featurization\n",
    "words = list(model.wv.vocab)\n",
    "print(words[0:100])"
   ]
  },
  {
   "cell_type": "code",
   "execution_count": null,
   "metadata": {},
   "outputs": [
    {
     "name": "stderr",
     "output_type": "stream",
     "text": [
      "<ipython-input-54-a35dbd1e476a>:2: DeprecationWarning: Call to deprecated `wv` (Attribute will be removed in 4.0.0, use self instead).\n",
      "  vector_list = [model.wv.__getitem__(word) for word in words if word in model.wv.vocab]\n",
      "<ipython-input-54-a35dbd1e476a>:5: DeprecationWarning: Call to deprecated `wv` (Attribute will be removed in 4.0.0, use self instead).\n",
      "  words_filtered = [word for word in words if word in model.wv.vocab]\n"
     ]
    }
   ],
   "source": [
    "# EMH- this is taking a very long time to run so my kernel was inturrepted \n",
    "\n",
    "# Filter the list of vectors to include only those that Word2Vec has a vector for\n",
    "#vector_list = [model.wv.__getitem__(word) for word in words if word in model.wv.vocab]\n",
    "\n",
    "# Create a list of the words corresponding to these vectors\n",
    "#words_filtered = [word for word in words if word in model.wv.vocab]\n",
    "\n",
    "# Zip the words together with their vector representations\n",
    "#word_vec_zip = zip(words_filtered, vector_list)\n",
    "\n",
    "# Cast to a dict so we can turn it into a dataframe\n",
    "#word_vec_dict = dict(word_vec_zip)\n",
    "#word_vec_df = pd.DataFrame.from_dict(word_vec_dict, orient='index')\n",
    "#word_vec_df.shape"
   ]
  },
  {
   "cell_type": "markdown",
   "metadata": {},
   "source": [
    "## Classification"
   ]
  },
  {
   "cell_type": "markdown",
   "metadata": {},
   "source": [
    "Either use cross-validation or partition your data with training/validation/test sets for this section. Do the following:\n",
    "\n",
    "* Choose a supervised learning algorithm such as logistic regression, random forest etc. \n",
    "* Train six models. For each of the three dataframes you created in the featurization part, train one model to predict whether the author of the tweet is a Democrat or Republican, and a second model to predict whether the author is a Senator or Representative.\n",
    "* Report the accuracy and other relevant metrics for each of these six models.\n",
    "* Choose the featurization technique associated with your best model. Combine those text features with non-text features. Train two more models: (1) A supervised learning algorithm that uses just the non-text features and (2) a supervised learning algorithm that combines text and non-text features. Report accuracy and other relevant metrics. \n",
    "\n",
    "If time permits, you are encouraged to use hyperparameter tuning or AutoML techniques like TPOT, but are not explicitly required to do so."
   ]
  },
  {
   "cell_type": "markdown",
   "metadata": {},
   "source": [
    "### Train Six Models with Just Text"
   ]
  },
  {
   "cell_type": "code",
   "execution_count": null,
   "metadata": {},
   "outputs": [],
   "source": [
    "# six models ([engineered features, frequency-based, embedding] * [democrat/republican, senator/representative])\n",
    "..."
   ]
  },
  {
   "cell_type": "markdown",
   "metadata": {},
   "source": [
    "### Two Combined Models"
   ]
  },
  {
   "cell_type": "code",
   "execution_count": null,
   "metadata": {},
   "outputs": [],
   "source": [
    "# two models ([best text features + non-text features] * [democrat/republican, senator/representative])\n",
    "..."
   ]
  },
  {
   "cell_type": "markdown",
   "metadata": {},
   "source": [
    "## Discussion Questions"
   ]
  },
  {
   "cell_type": "markdown",
   "metadata": {},
   "source": [
    "1. Why do standard preprocessing techniques need to be further customized to a particular corpus?"
   ]
  },
  {
   "cell_type": "markdown",
   "metadata": {},
   "source": [
    "**Your Answer Here**"
   ]
  },
  {
   "cell_type": "markdown",
   "metadata": {},
   "source": [
    "2. Did you find evidence for the idea that Democrats and Republicans have different sentiments in their tweets? What about Senators and Representatives?"
   ]
  },
  {
   "cell_type": "markdown",
   "metadata": {},
   "source": [
    "**Your Answer Here**"
   ]
  },
  {
   "cell_type": "markdown",
   "metadata": {},
   "source": [
    "3. Why is validating your exploratory and unsupervised learning approaches with a supervised learning algorithm valuable?"
   ]
  },
  {
   "cell_type": "markdown",
   "metadata": {},
   "source": [
    "**Your Answer Here**"
   ]
  },
  {
   "cell_type": "markdown",
   "metadata": {},
   "source": [
    "4. Did text only, non-text only, or text and non-text features together perform the best? What is the intuition behind combining text and non-text features in a supervised learning algorithm?"
   ]
  },
  {
   "cell_type": "markdown",
   "metadata": {},
   "source": [
    "**Your Answer Here**"
   ]
  }
 ],
 "metadata": {
  "kernelspec": {
   "display_name": "Python 3",
   "language": "python",
   "name": "python3"
  },
  "language_info": {
   "codemirror_mode": {
    "name": "ipython",
    "version": 3
   },
   "file_extension": ".py",
   "mimetype": "text/x-python",
   "name": "python",
   "nbconvert_exporter": "python",
   "pygments_lexer": "ipython3",
   "version": "3.8.3"
  }
 },
 "nbformat": 4,
 "nbformat_minor": 4
}
