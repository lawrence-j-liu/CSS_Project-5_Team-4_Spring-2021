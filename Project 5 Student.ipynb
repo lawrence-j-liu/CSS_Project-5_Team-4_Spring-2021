{
 "cells": [
  {
   "cell_type": "markdown",
   "metadata": {},
   "source": [
    "## [Computational Social Science] Project 5: Natural Language Processing\n",
    "\n",
    "### Team 4: Elleni Hailu, Lawrence Liu, and Ángel Mendiola Ross\n",
    "### Due: February 26, 2020"
   ]
  },
  {
   "cell_type": "markdown",
   "metadata": {},
   "source": [
    "In this project, we use natural language processing techniques to explore a dataset containing tweets from members of the 116th United States Congress that met from January 3, 2019 to January 2, 2021. The dataset has also been cleaned to contain information about each legislator. Concretely, we do the following:\n",
    "\n",
    "* Preprocess the text of legislators' tweets\n",
    "* Conduct Exploratory Data Analysis of the text\n",
    "* Use sentiment analysis to explore differences between legislators' tweets\n",
    "* Featurize text with manual feature engineering, frequency-based, and vector-based techniques\n",
    "* Predict legislators' political parties and whether they are a Senator or Representative\n",
    "\n",
    "We explore two questions that relate to two central findings in political science and examine how they relate to the text of legislators' tweets. First, political scientists have argued that U.S. politics is currently highly polarized relative to other periods in American history, but also that the polarization is asymmetric. Historically, there were several conservative Democrats (i.e. \"blue dog Democrats\") and liberal Republicans (i.e. \"Rockefeller Republicans\"), as measured by popular measurement tools like [DW-NOMINATE](https://en.wikipedia.org/wiki/NOMINATE_(scaling_method)#:~:text=DW\\%2DNOMINATE\\%20scores\\%20have\\%20been,in\\%20the\\%20liberal\\%2Dconservative\\%20scale.). However, in the last few years, there are few if any examples of any Democrat in Congress being further to the right than any Republican and vice versa. At the same time, scholars have argued that this polarization is mostly a function of the Republican party moving further right than the Democratic party has moved left. **Does this sort of asymmetric polarization show up in how politicians communicate to their constituents through tweets?**\n",
    "\n",
    "Second, the U.S. Congress is a bicameral legislature, and there has long been debate about partisanship in the Senate versus the House. The House of Representatives is apportioned by population and all members serve two year terms. In the Senate, each state receives two Senators and each Senator serves a term of six years. For a variety of reasons (smaller chamber size, more insulation from the voters, rules and norms like the filibuster, etc.), the Senate has been argued to be the \"cooling saucer\" of Congress in that it is more bipartisan and moderate than the House. **Does the theory that the Senate is more moderate have support in Senators' tweets?**\n",
    "\n",
    "**Note**: See the project handout for more details on caveats and the data dictionary."
   ]
  },
  {
   "cell_type": "code",
   "execution_count": 97,
   "metadata": {},
   "outputs": [],
   "source": [
    "#install spacy language detect capability, uncomment below if not yet installed \n",
    "#!pip install spacy-langdetect"
   ]
  },
  {
   "cell_type": "code",
   "execution_count": 98,
   "metadata": {},
   "outputs": [],
   "source": [
    "# pandas and numpy\n",
    "import pandas as pd\n",
    "import numpy as numpy\n",
    "\n",
    "# punctuation, stop words and English language model\n",
    "from string import punctuation\n",
    "\n",
    "from spacy.lang.en.stop_words import STOP_WORDS\n",
    "from spacy_langdetect import LanguageDetector #so we can add a feature to the dataframe indicating whether English text or not\n",
    "\n",
    "import en_core_web_sm\n",
    "nlp = en_core_web_sm.load()\n",
    "\n",
    "#add language detection to spaCy pipeline\n",
    "nlp.add_pipe(LanguageDetector(), name='language_detector', last=True)\n",
    "\n",
    "# textblob\n",
    "from textblob import TextBlob\n",
    "\n",
    "# countvectorizer, tfidfvectorizer\n",
    "from sklearn.feature_extraction.text import CountVectorizer, TfidfVectorizer\n",
    "\n",
    "# gensim\n",
    "import gensim\n",
    "from gensim import models\n",
    "\n",
    "# plotting\n",
    "import matplotlib.pyplot as plt\n",
    "import seaborn as sns\n",
    "%matplotlib inline\n",
    "\n",
    "#replicabilty\n",
    "import random\n",
    "\n",
    "#regex to help remove graphical emojis\n",
    "import re "
   ]
  },
  {
   "cell_type": "code",
   "execution_count": 99,
   "metadata": {},
   "outputs": [
    {
     "data": {
      "text/html": [
       "<div>\n",
       "<style scoped>\n",
       "    .dataframe tbody tr th:only-of-type {\n",
       "        vertical-align: middle;\n",
       "    }\n",
       "\n",
       "    .dataframe tbody tr th {\n",
       "        vertical-align: top;\n",
       "    }\n",
       "\n",
       "    .dataframe thead th {\n",
       "        text-align: right;\n",
       "    }\n",
       "</style>\n",
       "<table border=\"1\" class=\"dataframe\">\n",
       "  <thead>\n",
       "    <tr style=\"text-align: right;\">\n",
       "      <th></th>\n",
       "      <th>tweet_id</th>\n",
       "      <th>screen_name</th>\n",
       "      <th>datetime</th>\n",
       "      <th>text</th>\n",
       "      <th>name_wikipedia</th>\n",
       "      <th>position</th>\n",
       "      <th>joined_congress_date</th>\n",
       "      <th>birthday</th>\n",
       "      <th>gender</th>\n",
       "      <th>state</th>\n",
       "      <th>district_number</th>\n",
       "      <th>party</th>\n",
       "      <th>trump_2016_state_share</th>\n",
       "      <th>clinton_2016_state_share</th>\n",
       "      <th>obama_2012_state_share</th>\n",
       "      <th>romney_2012_state_share</th>\n",
       "    </tr>\n",
       "  </thead>\n",
       "  <tbody>\n",
       "    <tr>\n",
       "      <th>305871</th>\n",
       "      <td>1.296130e+18</td>\n",
       "      <td>RepCasten</td>\n",
       "      <td>2020-08-19T12:54:53-04:00</td>\n",
       "      <td>RT @NeoCrp @RepCasten When prioritizing future...</td>\n",
       "      <td>Sean Casten</td>\n",
       "      <td>Rep</td>\n",
       "      <td>3-Jan-19</td>\n",
       "      <td>11/23/1971</td>\n",
       "      <td>M</td>\n",
       "      <td>IL</td>\n",
       "      <td>6</td>\n",
       "      <td>Democrat</td>\n",
       "      <td>2,146,015</td>\n",
       "      <td>3,090,729</td>\n",
       "      <td>3,019,512</td>\n",
       "      <td>2,135,216</td>\n",
       "    </tr>\n",
       "    <tr>\n",
       "      <th>731734</th>\n",
       "      <td>1.278730e+18</td>\n",
       "      <td>WhipClyburn</td>\n",
       "      <td>2020-07-02T12:25:12-04:00</td>\n",
       "      <td>The Civil Rights Act of 1964 was key to starti...</td>\n",
       "      <td>Jim Clyburn</td>\n",
       "      <td>Rep</td>\n",
       "      <td>3-Jan-93</td>\n",
       "      <td>7/21/1940</td>\n",
       "      <td>M</td>\n",
       "      <td>SC</td>\n",
       "      <td>6</td>\n",
       "      <td>Democrat</td>\n",
       "      <td>1,155,389</td>\n",
       "      <td>855,373</td>\n",
       "      <td>865,941</td>\n",
       "      <td>1,071,645</td>\n",
       "    </tr>\n",
       "    <tr>\n",
       "      <th>531575</th>\n",
       "      <td>1.294360e+18</td>\n",
       "      <td>RepDonaldPayne</td>\n",
       "      <td>2020-08-14T15:35:29-04:00</td>\n",
       "      <td>@flynn_chick I am.  The Post Office is a natio...</td>\n",
       "      <td>Donald Payne Jr.</td>\n",
       "      <td>Rep</td>\n",
       "      <td>15-Nov-12</td>\n",
       "      <td>12/17/1958</td>\n",
       "      <td>M</td>\n",
       "      <td>NJ</td>\n",
       "      <td>10</td>\n",
       "      <td>Democrat</td>\n",
       "      <td>1,601,933</td>\n",
       "      <td>2,148,278</td>\n",
       "      <td>2,125,101</td>\n",
       "      <td>1,477,568</td>\n",
       "    </tr>\n",
       "    <tr>\n",
       "      <th>60337</th>\n",
       "      <td>1.093980e+18</td>\n",
       "      <td>RepSwalwell</td>\n",
       "      <td>2019-02-08T15:53:56-05:00</td>\n",
       "      <td>RT @kylegriffin1 After ranking member Doug Col...</td>\n",
       "      <td>Eric Swalwell</td>\n",
       "      <td>Rep</td>\n",
       "      <td>3-Jan-13</td>\n",
       "      <td>11/16/1980</td>\n",
       "      <td>M</td>\n",
       "      <td>CA</td>\n",
       "      <td>15</td>\n",
       "      <td>Democrat</td>\n",
       "      <td>4,483,814</td>\n",
       "      <td>8,753,792</td>\n",
       "      <td>7,854,285</td>\n",
       "      <td>4,839,958</td>\n",
       "    </tr>\n",
       "    <tr>\n",
       "      <th>36066</th>\n",
       "      <td>1.275170e+18</td>\n",
       "      <td>RepDavid</td>\n",
       "      <td>2020-06-22T17:09:45-04:00</td>\n",
       "      <td>Sources: Below are resources on different ways...</td>\n",
       "      <td>David Schweikert</td>\n",
       "      <td>Rep</td>\n",
       "      <td>3-Jan-13</td>\n",
       "      <td>3/3/1962</td>\n",
       "      <td>M</td>\n",
       "      <td>AZ</td>\n",
       "      <td>6</td>\n",
       "      <td>Republican</td>\n",
       "      <td>1,252,401</td>\n",
       "      <td>1,161,167</td>\n",
       "      <td>1,025,232</td>\n",
       "      <td>1,233,654</td>\n",
       "    </tr>\n",
       "  </tbody>\n",
       "</table>\n",
       "</div>"
      ],
      "text/plain": [
       "            tweet_id     screen_name                   datetime  \\\n",
       "305871  1.296130e+18       RepCasten  2020-08-19T12:54:53-04:00   \n",
       "731734  1.278730e+18     WhipClyburn  2020-07-02T12:25:12-04:00   \n",
       "531575  1.294360e+18  RepDonaldPayne  2020-08-14T15:35:29-04:00   \n",
       "60337   1.093980e+18     RepSwalwell  2019-02-08T15:53:56-05:00   \n",
       "36066   1.275170e+18        RepDavid  2020-06-22T17:09:45-04:00   \n",
       "\n",
       "                                                     text    name_wikipedia  \\\n",
       "305871  RT @NeoCrp @RepCasten When prioritizing future...       Sean Casten   \n",
       "731734  The Civil Rights Act of 1964 was key to starti...       Jim Clyburn   \n",
       "531575  @flynn_chick I am.  The Post Office is a natio...  Donald Payne Jr.   \n",
       "60337   RT @kylegriffin1 After ranking member Doug Col...     Eric Swalwell   \n",
       "36066   Sources: Below are resources on different ways...  David Schweikert   \n",
       "\n",
       "       position joined_congress_date    birthday gender state district_number  \\\n",
       "305871      Rep             3-Jan-19  11/23/1971      M    IL               6   \n",
       "731734      Rep             3-Jan-93   7/21/1940      M    SC               6   \n",
       "531575      Rep            15-Nov-12  12/17/1958      M    NJ              10   \n",
       "60337       Rep             3-Jan-13  11/16/1980      M    CA              15   \n",
       "36066       Rep             3-Jan-13    3/3/1962      M    AZ               6   \n",
       "\n",
       "             party trump_2016_state_share clinton_2016_state_share  \\\n",
       "305871    Democrat              2,146,015                3,090,729   \n",
       "731734    Democrat              1,155,389                  855,373   \n",
       "531575    Democrat              1,601,933                2,148,278   \n",
       "60337     Democrat              4,483,814                8,753,792   \n",
       "36066   Republican              1,252,401                1,161,167   \n",
       "\n",
       "       obama_2012_state_share romney_2012_state_share  \n",
       "305871              3,019,512               2,135,216  \n",
       "731734                865,941               1,071,645  \n",
       "531575              2,125,101               1,477,568  \n",
       "60337               7,854,285               4,839,958  \n",
       "36066               1,025,232               1,233,654  "
      ]
     },
     "execution_count": 99,
     "metadata": {},
     "output_type": "execute_result"
    }
   ],
   "source": [
    "random.seed(49764) #set seed for replicability w/ sample\n",
    "\n",
    "congress_tweets = pd.read_csv(\"data/116th Congressional Tweets and Demographics.csv\")\n",
    "# fill in this line of code with a sufficient number of tweets, depending on your computational resources\n",
    "congress_tweets = congress_tweets.sample(5000) \n",
    "#LL: note I picked 5000 arbitrarily for now; we'll want to come back to this and adjust up as we get code to work\n",
    "congress_tweets.head()"
   ]
  },
  {
   "cell_type": "code",
   "execution_count": 100,
   "metadata": {},
   "outputs": [
    {
     "data": {
      "text/plain": [
       "(5000, 16)"
      ]
     },
     "execution_count": 100,
     "metadata": {},
     "output_type": "execute_result"
    }
   ],
   "source": [
    "congress_tweets.shape"
   ]
  },
  {
   "cell_type": "markdown",
   "metadata": {},
   "source": [
    "## Preprocessing Text Data"
   ]
  },
  {
   "cell_type": "markdown",
   "metadata": {},
   "source": [
    "The first step in working with text data is to preprocess it. Make sure you do the following:\n",
    "\n",
    "* Remove punctuation and stop words. The `rem_punc_stop()` function we used in lab is provided to you but you should feel free to edit it as necessary for other steps\n",
    "* Remove tokens that occur frequently in tweets, but may not be helpful for downstream classification. For instance, many tweets contain a flag for retweeting, or share a URL \n",
    "\n",
    "As you search online, you might run into solutions that rely on regular expressions. You are free to use these, but you should also be able to preprocess using the techniques we covered in lab. Specifically, we encourage you to use spaCy's token attributes and string methods to do some of this text preprocessing."
   ]
  },
  {
   "cell_type": "code",
   "execution_count": 101,
   "metadata": {},
   "outputs": [
    {
     "data": {
      "text/plain": [
       "'!\"#$%&\\'()*+,-./:;<=>?@[\\\\]^_`{|}~'"
      ]
     },
     "execution_count": 101,
     "metadata": {},
     "output_type": "execute_result"
    }
   ],
   "source": [
    "punctuation"
   ]
  },
  {
   "cell_type": "code",
   "execution_count": 102,
   "metadata": {},
   "outputs": [],
   "source": [
    "#function to remove graphical emojis\n",
    "#copied from: https://stackoverflow.com/questions/33404752/removing-emojis-from-a-string-in-python/50602709#50602709\n",
    "\n",
    "def deEmojify(text):\n",
    "    regrex_pattern = re.compile(pattern = \"[\"\n",
    "        u\"\\U0001F600-\\U0001F64F\"  # emoticons\n",
    "        u\"\\U0001F300-\\U0001F5FF\"  # symbols & pictographs\n",
    "        u\"\\U0001F680-\\U0001F6FF\"  # transport & map symbols\n",
    "        u\"\\U0001F1E0-\\U0001F1FF\"  # flags (iOS)\n",
    "                           \"]+\", flags = re.UNICODE)\n",
    "    return regrex_pattern.sub(r'',text)"
   ]
  },
  {
   "cell_type": "code",
   "execution_count": 103,
   "metadata": {},
   "outputs": [],
   "source": [
    "def rem_punc_stop(text):\n",
    "    stop_words = STOP_WORDS\n",
    "    punc = set(punctuation) #should get rid of hashtags and @s\n",
    "    \n",
    "    punc_free = \"\".join([ch for ch in text if ch not in punc]) #turns text into a string object\n",
    "    \n",
    "    punc_free = punc_free.lower() #lower-case the words\n",
    "    \n",
    "    punc_free = punc_free.replace('rt', '') #delete rt\n",
    "    \n",
    "    punc_free = deEmojify(punc_free) #remove graphical emojis\n",
    "    \n",
    "    punc_free = \" \".join(punc_free.split()) #removes all whitespace characters (space, line breaks, etc.)\n",
    "\n",
    "    #punc_free = punc_free.replace('\\n', '') #remove line breaks\n",
    "    \n",
    "    doc = nlp(punc_free)\n",
    "    \n",
    "    spacy_words = [token.text for token in doc]\n",
    "    \n",
    "    spacy_words = [word for word in spacy_words if not word.startswith('http')]\n",
    "    \n",
    "    no_punc = [word for word in spacy_words if word not in stop_words]\n",
    "    \n",
    "    return no_punc"
   ]
  },
  {
   "cell_type": "code",
   "execution_count": 104,
   "metadata": {},
   "outputs": [
    {
     "data": {
      "text/plain": [
       "305871    [neocrp, repcasten, prioritizing, future, regu...\n",
       "731734    [civil, rights, act, 1964, key, staing, cascad...\n",
       "531575    [flynnchick, post, office, national, instituti...\n",
       "60337     [kylegriffin1, ranking, member, doug, collins,...\n",
       "36066     [sources, resources, different, ways, buy, sel...\n",
       "                                ...                        \n",
       "43998              [worrying, information, care, neighbors]\n",
       "872214    [president, innocent, let, allow, testimony, k...\n",
       "694803    [defeat, coronavirus, contract, disease, mild,...\n",
       "145052    [horrific, accusations, forced, hysterectomies...\n",
       "472985    [mikepence, proud, repo, challenging, time, na...\n",
       "Name: tokens, Length: 5000, dtype: object"
      ]
     },
     "execution_count": 104,
     "metadata": {},
     "output_type": "execute_result"
    }
   ],
   "source": [
    "congress_tweets['tokens'] = congress_tweets['text'].map(lambda x: rem_punc_stop(x))\n",
    "congress_tweets['tokens']"
   ]
  },
  {
   "cell_type": "markdown",
   "metadata": {},
   "source": [
    "## Adding Feature Indicating the Tweet Language"
   ]
  },
  {
   "cell_type": "markdown",
   "metadata": {},
   "source": [
    "Since some of the tweets are in non-English languages, we added a column to the dataframe that indicates the language of the tweet as identified by spaCy. "
   ]
  },
  {
   "cell_type": "code",
   "execution_count": 105,
   "metadata": {},
   "outputs": [
    {
     "name": "stdout",
     "output_type": "stream",
     "text": [
      "{'language': 'UNKNOWN', 'score': 0.0}\n",
      "{'language': 'en', 'score': 0.9999984220475613}\n"
     ]
    }
   ],
   "source": [
    "#example of how it works and what is output\n",
    "test_text = ['.', 'this is a test string']\n",
    "for text in test_text:\n",
    "    doc = nlp(text)\n",
    "    print(doc._.language)"
   ]
  },
  {
   "cell_type": "code",
   "execution_count": 106,
   "metadata": {},
   "outputs": [],
   "source": [
    "#code adapted from: https://www.kaggle.com/shawamar/language-detection-using-spacy\n",
    "#LL note 2/14/21: note that w/ 5000 tweets, this took me ~3 minutes to run\n",
    "\n",
    "#create container for tweet languages and loop through text column of dataframe\n",
    "tweets = congress_tweets['text']\n",
    "languages_spacy = []\n",
    "\n",
    "for text in tweets:\n",
    "    doc = nlp(text)\n",
    "    languages_spacy.append(list(doc._.language.values())[0])\n",
    "\n",
    "#add column to df indicating language of tweet\n",
    "congress_tweets['languages_spacy'] = languages_spacy"
   ]
  },
  {
   "cell_type": "code",
   "execution_count": 107,
   "metadata": {},
   "outputs": [
    {
     "data": {
      "text/html": [
       "<div>\n",
       "<style scoped>\n",
       "    .dataframe tbody tr th:only-of-type {\n",
       "        vertical-align: middle;\n",
       "    }\n",
       "\n",
       "    .dataframe tbody tr th {\n",
       "        vertical-align: top;\n",
       "    }\n",
       "\n",
       "    .dataframe thead th {\n",
       "        text-align: right;\n",
       "    }\n",
       "</style>\n",
       "<table border=\"1\" class=\"dataframe\">\n",
       "  <thead>\n",
       "    <tr style=\"text-align: right;\">\n",
       "      <th></th>\n",
       "      <th>tweet_id</th>\n",
       "      <th>screen_name</th>\n",
       "      <th>datetime</th>\n",
       "      <th>text</th>\n",
       "      <th>name_wikipedia</th>\n",
       "      <th>position</th>\n",
       "      <th>joined_congress_date</th>\n",
       "      <th>birthday</th>\n",
       "      <th>gender</th>\n",
       "      <th>state</th>\n",
       "      <th>district_number</th>\n",
       "      <th>party</th>\n",
       "      <th>trump_2016_state_share</th>\n",
       "      <th>clinton_2016_state_share</th>\n",
       "      <th>obama_2012_state_share</th>\n",
       "      <th>romney_2012_state_share</th>\n",
       "      <th>tokens</th>\n",
       "      <th>languages_spacy</th>\n",
       "    </tr>\n",
       "  </thead>\n",
       "  <tbody>\n",
       "    <tr>\n",
       "      <th>305871</th>\n",
       "      <td>1.296130e+18</td>\n",
       "      <td>RepCasten</td>\n",
       "      <td>2020-08-19T12:54:53-04:00</td>\n",
       "      <td>RT @NeoCrp @RepCasten When prioritizing future...</td>\n",
       "      <td>Sean Casten</td>\n",
       "      <td>Rep</td>\n",
       "      <td>3-Jan-19</td>\n",
       "      <td>11/23/1971</td>\n",
       "      <td>M</td>\n",
       "      <td>IL</td>\n",
       "      <td>6</td>\n",
       "      <td>Democrat</td>\n",
       "      <td>2,146,015</td>\n",
       "      <td>3,090,729</td>\n",
       "      <td>3,019,512</td>\n",
       "      <td>2,135,216</td>\n",
       "      <td>[neocrp, repcasten, prioritizing, future, regu...</td>\n",
       "      <td>en</td>\n",
       "    </tr>\n",
       "    <tr>\n",
       "      <th>731734</th>\n",
       "      <td>1.278730e+18</td>\n",
       "      <td>WhipClyburn</td>\n",
       "      <td>2020-07-02T12:25:12-04:00</td>\n",
       "      <td>The Civil Rights Act of 1964 was key to starti...</td>\n",
       "      <td>Jim Clyburn</td>\n",
       "      <td>Rep</td>\n",
       "      <td>3-Jan-93</td>\n",
       "      <td>7/21/1940</td>\n",
       "      <td>M</td>\n",
       "      <td>SC</td>\n",
       "      <td>6</td>\n",
       "      <td>Democrat</td>\n",
       "      <td>1,155,389</td>\n",
       "      <td>855,373</td>\n",
       "      <td>865,941</td>\n",
       "      <td>1,071,645</td>\n",
       "      <td>[civil, rights, act, 1964, key, staing, cascad...</td>\n",
       "      <td>en</td>\n",
       "    </tr>\n",
       "    <tr>\n",
       "      <th>531575</th>\n",
       "      <td>1.294360e+18</td>\n",
       "      <td>RepDonaldPayne</td>\n",
       "      <td>2020-08-14T15:35:29-04:00</td>\n",
       "      <td>@flynn_chick I am.  The Post Office is a natio...</td>\n",
       "      <td>Donald Payne Jr.</td>\n",
       "      <td>Rep</td>\n",
       "      <td>15-Nov-12</td>\n",
       "      <td>12/17/1958</td>\n",
       "      <td>M</td>\n",
       "      <td>NJ</td>\n",
       "      <td>10</td>\n",
       "      <td>Democrat</td>\n",
       "      <td>1,601,933</td>\n",
       "      <td>2,148,278</td>\n",
       "      <td>2,125,101</td>\n",
       "      <td>1,477,568</td>\n",
       "      <td>[flynnchick, post, office, national, instituti...</td>\n",
       "      <td>en</td>\n",
       "    </tr>\n",
       "    <tr>\n",
       "      <th>60337</th>\n",
       "      <td>1.093980e+18</td>\n",
       "      <td>RepSwalwell</td>\n",
       "      <td>2019-02-08T15:53:56-05:00</td>\n",
       "      <td>RT @kylegriffin1 After ranking member Doug Col...</td>\n",
       "      <td>Eric Swalwell</td>\n",
       "      <td>Rep</td>\n",
       "      <td>3-Jan-13</td>\n",
       "      <td>11/16/1980</td>\n",
       "      <td>M</td>\n",
       "      <td>CA</td>\n",
       "      <td>15</td>\n",
       "      <td>Democrat</td>\n",
       "      <td>4,483,814</td>\n",
       "      <td>8,753,792</td>\n",
       "      <td>7,854,285</td>\n",
       "      <td>4,839,958</td>\n",
       "      <td>[kylegriffin1, ranking, member, doug, collins,...</td>\n",
       "      <td>en</td>\n",
       "    </tr>\n",
       "    <tr>\n",
       "      <th>36066</th>\n",
       "      <td>1.275170e+18</td>\n",
       "      <td>RepDavid</td>\n",
       "      <td>2020-06-22T17:09:45-04:00</td>\n",
       "      <td>Sources: Below are resources on different ways...</td>\n",
       "      <td>David Schweikert</td>\n",
       "      <td>Rep</td>\n",
       "      <td>3-Jan-13</td>\n",
       "      <td>3/3/1962</td>\n",
       "      <td>M</td>\n",
       "      <td>AZ</td>\n",
       "      <td>6</td>\n",
       "      <td>Republican</td>\n",
       "      <td>1,252,401</td>\n",
       "      <td>1,161,167</td>\n",
       "      <td>1,025,232</td>\n",
       "      <td>1,233,654</td>\n",
       "      <td>[sources, resources, different, ways, buy, sel...</td>\n",
       "      <td>en</td>\n",
       "    </tr>\n",
       "  </tbody>\n",
       "</table>\n",
       "</div>"
      ],
      "text/plain": [
       "            tweet_id     screen_name                   datetime  \\\n",
       "305871  1.296130e+18       RepCasten  2020-08-19T12:54:53-04:00   \n",
       "731734  1.278730e+18     WhipClyburn  2020-07-02T12:25:12-04:00   \n",
       "531575  1.294360e+18  RepDonaldPayne  2020-08-14T15:35:29-04:00   \n",
       "60337   1.093980e+18     RepSwalwell  2019-02-08T15:53:56-05:00   \n",
       "36066   1.275170e+18        RepDavid  2020-06-22T17:09:45-04:00   \n",
       "\n",
       "                                                     text    name_wikipedia  \\\n",
       "305871  RT @NeoCrp @RepCasten When prioritizing future...       Sean Casten   \n",
       "731734  The Civil Rights Act of 1964 was key to starti...       Jim Clyburn   \n",
       "531575  @flynn_chick I am.  The Post Office is a natio...  Donald Payne Jr.   \n",
       "60337   RT @kylegriffin1 After ranking member Doug Col...     Eric Swalwell   \n",
       "36066   Sources: Below are resources on different ways...  David Schweikert   \n",
       "\n",
       "       position joined_congress_date    birthday gender state district_number  \\\n",
       "305871      Rep             3-Jan-19  11/23/1971      M    IL               6   \n",
       "731734      Rep             3-Jan-93   7/21/1940      M    SC               6   \n",
       "531575      Rep            15-Nov-12  12/17/1958      M    NJ              10   \n",
       "60337       Rep             3-Jan-13  11/16/1980      M    CA              15   \n",
       "36066       Rep             3-Jan-13    3/3/1962      M    AZ               6   \n",
       "\n",
       "             party trump_2016_state_share clinton_2016_state_share  \\\n",
       "305871    Democrat              2,146,015                3,090,729   \n",
       "731734    Democrat              1,155,389                  855,373   \n",
       "531575    Democrat              1,601,933                2,148,278   \n",
       "60337     Democrat              4,483,814                8,753,792   \n",
       "36066   Republican              1,252,401                1,161,167   \n",
       "\n",
       "       obama_2012_state_share romney_2012_state_share  \\\n",
       "305871              3,019,512               2,135,216   \n",
       "731734                865,941               1,071,645   \n",
       "531575              2,125,101               1,477,568   \n",
       "60337               7,854,285               4,839,958   \n",
       "36066               1,025,232               1,233,654   \n",
       "\n",
       "                                                   tokens languages_spacy  \n",
       "305871  [neocrp, repcasten, prioritizing, future, regu...              en  \n",
       "731734  [civil, rights, act, 1964, key, staing, cascad...              en  \n",
       "531575  [flynnchick, post, office, national, instituti...              en  \n",
       "60337   [kylegriffin1, ranking, member, doug, collins,...              en  \n",
       "36066   [sources, resources, different, ways, buy, sel...              en  "
      ]
     },
     "execution_count": 107,
     "metadata": {},
     "output_type": "execute_result"
    }
   ],
   "source": [
    "congress_tweets.head()"
   ]
  },
  {
   "cell_type": "markdown",
   "metadata": {},
   "source": [
    "## Exploratory Data Analysis"
   ]
  },
  {
   "cell_type": "markdown",
   "metadata": {},
   "source": [
    "Use two of the techniques we covered in lab (or other techniques outside of lab!) to explore the text of the tweets. You should construct these visualizations with an eye toward the eventual classification tasks: (1) predicting the legislator's political party based on the text of their tweet, and (2) predicting whether the legislator is a Senator or Representative. As a reminder, in lab we covered word frequencies, word clouds, word/character counts, scattertext, and topic modeling as possible exploration tools. "
   ]
  },
  {
   "cell_type": "markdown",
   "metadata": {},
   "source": [
    "### EDA 1"
   ]
  },
  {
   "cell_type": "code",
   "execution_count": null,
   "metadata": {},
   "outputs": [],
   "source": []
  },
  {
   "cell_type": "markdown",
   "metadata": {},
   "source": [
    "### EDA 2"
   ]
  },
  {
   "cell_type": "code",
   "execution_count": null,
   "metadata": {},
   "outputs": [],
   "source": []
  },
  {
   "cell_type": "markdown",
   "metadata": {},
   "source": [
    "## Sentiment Analysis"
   ]
  },
  {
   "cell_type": "markdown",
   "metadata": {},
   "source": [
    "Next, let's analyze the sentiments contained within the tweets. You may use TextBlob or another library for these tasks. Do the following:\n",
    "\n",
    "* Choose two legislators, one who you think will be more liberal and one who you think will be more conservative, and analyze their sentiment and/or subjectivity scores per tweet. For instance, you might do two scatterplots that plot each legislator's sentiment against their subjectivity, or two density plots for their sentiments. Do the scores match what you thought?\n",
    "* Plot two more visualizations like the ones you chose in the first part, but do them to compare (1) Democrats v. Republicans and (2) Senators v. Representatives \n",
    "\n",
    "`TextBlob` has already been imported in the top cell."
   ]
  },
  {
   "cell_type": "code",
   "execution_count": null,
   "metadata": {},
   "outputs": [],
   "source": []
  },
  {
   "cell_type": "markdown",
   "metadata": {},
   "source": [
    "## Featurization"
   ]
  },
  {
   "cell_type": "markdown",
   "metadata": {},
   "source": [
    "Before going to classification, explore different featurization techniques. Create three dataframes or arrays to represent your text features, specifically:\n",
    "\n",
    "* Features engineered from your previous analysis. For example, word counts, sentiment scores, topic model etc.\n",
    "* A term frequency-inverse document frequency matrix. \n",
    "* An embedding-based featurization (like a document averaged word2vec)\n",
    "\n",
    "In the next section, you will experiment with each of these featurization techniques to see which one produces the best classifications."
   ]
  },
  {
   "cell_type": "code",
   "execution_count": null,
   "metadata": {},
   "outputs": [],
   "source": []
  },
  {
   "cell_type": "markdown",
   "metadata": {},
   "source": [
    "### Engineered Text Features"
   ]
  },
  {
   "cell_type": "code",
   "execution_count": null,
   "metadata": {},
   "outputs": [],
   "source": [
    "# Engineered Features\n",
    "..."
   ]
  },
  {
   "cell_type": "markdown",
   "metadata": {},
   "source": [
    "### Bag-of-words or Tf-idf"
   ]
  },
  {
   "cell_type": "code",
   "execution_count": null,
   "metadata": {},
   "outputs": [],
   "source": [
    "# Frequency Based featurization\n",
    "..."
   ]
  },
  {
   "cell_type": "markdown",
   "metadata": {},
   "source": [
    "### Word Embedding"
   ]
  },
  {
   "cell_type": "code",
   "execution_count": null,
   "metadata": {},
   "outputs": [],
   "source": [
    "# Load Word2Vec model from Google; OPTIONAL depending on your computational resources (the file is ~1 GB)\n",
    "# Also note that this file path assumes that the word vectors are underneath 'data'; you may wish to point to the CSS course repo and change the path\n",
    "# or move the vector file to the project repo \n",
    "\n",
    "#model = gensim.models.KeyedVectors.load_word2vec_format('data/GoogleNews-vectors-negative300.bin.gz', binary = True) "
   ]
  },
  {
   "cell_type": "code",
   "execution_count": null,
   "metadata": {},
   "outputs": [],
   "source": [
    "# Function to average word embeddings for a document; use examples from lab to apply this function. You can use also other techniques such as PCA and doc2vec instead.\n",
    "def document_vector(word2vec_model, doc):\n",
    "    doc = [word for word in doc if word in model.vocab]\n",
    "    return np.mean(model[doc], axis=0)"
   ]
  },
  {
   "cell_type": "code",
   "execution_count": null,
   "metadata": {},
   "outputs": [],
   "source": [
    "# embedding based featurization\n",
    "..."
   ]
  },
  {
   "cell_type": "markdown",
   "metadata": {},
   "source": [
    "## Classification"
   ]
  },
  {
   "cell_type": "markdown",
   "metadata": {},
   "source": [
    "Either use cross-validation or partition your data with training/validation/test sets for this section. Do the following:\n",
    "\n",
    "* Choose a supervised learning algorithm such as logistic regression, random forest etc. \n",
    "* Train six models. For each of the three dataframes you created in the featurization part, train one model to predict whether the author of the tweet is a Democrat or Republican, and a second model to predict whether the author is a Senator or Representative.\n",
    "* Report the accuracy and other relevant metrics for each of these six models.\n",
    "* Choose the featurization technique associated with your best model. Combine those text features with non-text features. Train two more models: (1) A supervised learning algorithm that uses just the non-text features and (2) a supervised learning algorithm that combines text and non-text features. Report accuracy and other relevant metrics. \n",
    "\n",
    "If time permits, you are encouraged to use hyperparameter tuning or AutoML techniques like TPOT, but are not explicitly required to do so."
   ]
  },
  {
   "cell_type": "markdown",
   "metadata": {},
   "source": [
    "### Train Six Models with Just Text"
   ]
  },
  {
   "cell_type": "code",
   "execution_count": null,
   "metadata": {},
   "outputs": [],
   "source": [
    "# six models ([engineered features, frequency-based, embedding] * [democrat/republican, senator/representative])\n",
    "..."
   ]
  },
  {
   "cell_type": "markdown",
   "metadata": {},
   "source": [
    "### Two Combined Models"
   ]
  },
  {
   "cell_type": "code",
   "execution_count": null,
   "metadata": {},
   "outputs": [],
   "source": [
    "# two models ([best text features + non-text features] * [democrat/republican, senator/representative])\n",
    "..."
   ]
  },
  {
   "cell_type": "markdown",
   "metadata": {},
   "source": [
    "## Discussion Questions"
   ]
  },
  {
   "cell_type": "markdown",
   "metadata": {},
   "source": [
    "1. Why do standard preprocessing techniques need to be further customized to a particular corpus?"
   ]
  },
  {
   "cell_type": "markdown",
   "metadata": {},
   "source": [
    "**Your Answer Here**"
   ]
  },
  {
   "cell_type": "markdown",
   "metadata": {},
   "source": [
    "2. Did you find evidence for the idea that Democrats and Republicans have different sentiments in their tweets? What about Senators and Representatives?"
   ]
  },
  {
   "cell_type": "markdown",
   "metadata": {},
   "source": [
    "**Your Answer Here**"
   ]
  },
  {
   "cell_type": "markdown",
   "metadata": {},
   "source": [
    "3. Why is validating your exploratory and unsupervised learning approaches with a supervised learning algorithm valuable?"
   ]
  },
  {
   "cell_type": "markdown",
   "metadata": {},
   "source": [
    "**Your Answer Here**"
   ]
  },
  {
   "cell_type": "markdown",
   "metadata": {},
   "source": [
    "4. Did text only, non-text only, or text and non-text features together perform the best? What is the intuition behind combining text and non-text features in a supervised learning algorithm?"
   ]
  },
  {
   "cell_type": "markdown",
   "metadata": {},
   "source": [
    "**Your Answer Here**"
   ]
  }
 ],
 "metadata": {
  "kernelspec": {
   "display_name": "Python 3",
   "language": "python",
   "name": "python3"
  },
  "language_info": {
   "codemirror_mode": {
    "name": "ipython",
    "version": 3
   },
   "file_extension": ".py",
   "mimetype": "text/x-python",
   "name": "python",
   "nbconvert_exporter": "python",
   "pygments_lexer": "ipython3",
   "version": "3.8.5"
  }
 },
 "nbformat": 4,
 "nbformat_minor": 4
}
